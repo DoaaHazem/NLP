{
 "cells": [
  {
   "cell_type": "code",
   "execution_count": 1,
   "id": "ed0f20f1",
   "metadata": {
    "execution": {
     "iopub.execute_input": "2024-12-08T00:05:47.044113Z",
     "iopub.status.busy": "2024-12-08T00:05:47.043373Z",
     "iopub.status.idle": "2024-12-08T00:06:01.006693Z",
     "shell.execute_reply": "2024-12-08T00:06:01.005766Z"
    },
    "papermill": {
     "duration": 13.974679,
     "end_time": "2024-12-08T00:06:01.008786",
     "exception": false,
     "start_time": "2024-12-08T00:05:47.034107",
     "status": "completed"
    },
    "tags": []
   },
   "outputs": [],
   "source": [
    "import pandas as pd \n",
    "import numpy as np\n",
    "import matplotlib.pyplot as plt\n",
    "import seaborn as sns\n",
    "import nltk\n",
    "import re\n",
    "import emoji\n",
    "import tensorflow as tf\n",
    "from nltk.corpus import stopwords\n",
    "from nltk.tokenize import word_tokenize\n",
    "from nltk.stem import PorterStemmer , WordNetLemmatizer\n",
    "from tensorflow.keras.preprocessing.text import Tokenizer\n",
    "from tensorflow.keras.preprocessing.text import text_to_word_sequence\n",
    "from tensorflow.keras.preprocessing.sequence import pad_sequences\n",
    "from sklearn.model_selection import train_test_split\n",
    "from tensorflow.keras.models import Sequential\n",
    "from tensorflow.keras.layers import Dense, Dropout, BatchNormalization\n",
    "from tensorflow.keras.layers import Embedding, SimpleRNN, LSTM, GRU\n",
    "from tensorflow.keras.callbacks import EarlyStopping\n",
    "from sklearn.metrics import classification_report ,accuracy_score,confusion_matrix"
   ]
  },
  {
   "cell_type": "code",
   "execution_count": 2,
   "id": "7cc4284d",
   "metadata": {
    "execution": {
     "iopub.execute_input": "2024-12-08T00:06:01.023160Z",
     "iopub.status.busy": "2024-12-08T00:06:01.022676Z",
     "iopub.status.idle": "2024-12-08T00:06:05.274953Z",
     "shell.execute_reply": "2024-12-08T00:06:05.273904Z"
    },
    "papermill": {
     "duration": 4.26095,
     "end_time": "2024-12-08T00:06:05.277047",
     "exception": false,
     "start_time": "2024-12-08T00:06:01.016097",
     "status": "completed"
    },
    "tags": []
   },
   "outputs": [
    {
     "data": {
      "text/html": [
       "<div>\n",
       "<style scoped>\n",
       "    .dataframe tbody tr th:only-of-type {\n",
       "        vertical-align: middle;\n",
       "    }\n",
       "\n",
       "    .dataframe tbody tr th {\n",
       "        vertical-align: top;\n",
       "    }\n",
       "\n",
       "    .dataframe thead th {\n",
       "        text-align: right;\n",
       "    }\n",
       "</style>\n",
       "<table border=\"1\" class=\"dataframe\">\n",
       "  <thead>\n",
       "    <tr style=\"text-align: right;\">\n",
       "      <th></th>\n",
       "      <th>polarity</th>\n",
       "      <th>title_review</th>\n",
       "      <th>text_review</th>\n",
       "    </tr>\n",
       "  </thead>\n",
       "  <tbody>\n",
       "    <tr>\n",
       "      <th>0</th>\n",
       "      <td>2</td>\n",
       "      <td>Great CD</td>\n",
       "      <td>My lovely Pat has one of the GREAT voices of h...</td>\n",
       "    </tr>\n",
       "    <tr>\n",
       "      <th>1</th>\n",
       "      <td>2</td>\n",
       "      <td>One of the best game music soundtracks - for a...</td>\n",
       "      <td>Despite the fact that I have only played a sma...</td>\n",
       "    </tr>\n",
       "    <tr>\n",
       "      <th>2</th>\n",
       "      <td>1</td>\n",
       "      <td>Batteries died within a year ...</td>\n",
       "      <td>I bought this charger in Jul 2003 and it worke...</td>\n",
       "    </tr>\n",
       "    <tr>\n",
       "      <th>3</th>\n",
       "      <td>2</td>\n",
       "      <td>works fine, but Maha Energy is better</td>\n",
       "      <td>Check out Maha Energy's website. Their Powerex...</td>\n",
       "    </tr>\n",
       "    <tr>\n",
       "      <th>4</th>\n",
       "      <td>2</td>\n",
       "      <td>Great for the non-audiophile</td>\n",
       "      <td>Reviewed quite a bit of the combo players and ...</td>\n",
       "    </tr>\n",
       "  </tbody>\n",
       "</table>\n",
       "</div>"
      ],
      "text/plain": [
       "   polarity                                       title_review  \\\n",
       "0         2                                           Great CD   \n",
       "1         2  One of the best game music soundtracks - for a...   \n",
       "2         1                   Batteries died within a year ...   \n",
       "3         2              works fine, but Maha Energy is better   \n",
       "4         2                       Great for the non-audiophile   \n",
       "\n",
       "                                         text_review  \n",
       "0  My lovely Pat has one of the GREAT voices of h...  \n",
       "1  Despite the fact that I have only played a sma...  \n",
       "2  I bought this charger in Jul 2003 and it worke...  \n",
       "3  Check out Maha Energy's website. Their Powerex...  \n",
       "4  Reviewed quite a bit of the combo players and ...  "
      ]
     },
     "execution_count": 2,
     "metadata": {},
     "output_type": "execute_result"
    }
   ],
   "source": [
    "name_columns=['polarity','title_review','text_review']\n",
    "df=pd.read_csv('/kaggle/input/amazon-reviews/test.csv',header=None,names=name_columns)\n",
    "df.head()"
   ]
  },
  {
   "cell_type": "code",
   "execution_count": 3,
   "id": "f7189ad5",
   "metadata": {
    "execution": {
     "iopub.execute_input": "2024-12-08T00:06:05.290460Z",
     "iopub.status.busy": "2024-12-08T00:06:05.290168Z",
     "iopub.status.idle": "2024-12-08T00:06:05.295396Z",
     "shell.execute_reply": "2024-12-08T00:06:05.294674Z"
    },
    "papermill": {
     "duration": 0.013563,
     "end_time": "2024-12-08T00:06:05.297004",
     "exception": false,
     "start_time": "2024-12-08T00:06:05.283441",
     "status": "completed"
    },
    "tags": []
   },
   "outputs": [
    {
     "data": {
      "text/plain": [
       "(400000, 3)"
      ]
     },
     "execution_count": 3,
     "metadata": {},
     "output_type": "execute_result"
    }
   ],
   "source": [
    "df.shape"
   ]
  },
  {
   "cell_type": "code",
   "execution_count": 4,
   "id": "6b29766a",
   "metadata": {
    "execution": {
     "iopub.execute_input": "2024-12-08T00:06:05.309990Z",
     "iopub.status.busy": "2024-12-08T00:06:05.309745Z",
     "iopub.status.idle": "2024-12-08T00:06:05.379933Z",
     "shell.execute_reply": "2024-12-08T00:06:05.379084Z"
    },
    "papermill": {
     "duration": 0.078714,
     "end_time": "2024-12-08T00:06:05.381697",
     "exception": false,
     "start_time": "2024-12-08T00:06:05.302983",
     "status": "completed"
    },
    "tags": []
   },
   "outputs": [
    {
     "data": {
      "text/plain": [
       "polarity         0\n",
       "title_review    24\n",
       "text_review      0\n",
       "dtype: int64"
      ]
     },
     "execution_count": 4,
     "metadata": {},
     "output_type": "execute_result"
    }
   ],
   "source": [
    "df.isnull().sum()"
   ]
  },
  {
   "cell_type": "code",
   "execution_count": 5,
   "id": "24d42e9f",
   "metadata": {
    "execution": {
     "iopub.execute_input": "2024-12-08T00:06:05.395041Z",
     "iopub.status.busy": "2024-12-08T00:06:05.394754Z",
     "iopub.status.idle": "2024-12-08T00:06:05.486308Z",
     "shell.execute_reply": "2024-12-08T00:06:05.485359Z"
    },
    "papermill": {
     "duration": 0.100348,
     "end_time": "2024-12-08T00:06:05.488124",
     "exception": false,
     "start_time": "2024-12-08T00:06:05.387776",
     "status": "completed"
    },
    "tags": []
   },
   "outputs": [],
   "source": [
    "df.dropna(inplace=True)"
   ]
  },
  {
   "cell_type": "code",
   "execution_count": 6,
   "id": "f4db55b8",
   "metadata": {
    "execution": {
     "iopub.execute_input": "2024-12-08T00:06:05.502162Z",
     "iopub.status.busy": "2024-12-08T00:06:05.501821Z",
     "iopub.status.idle": "2024-12-08T00:06:06.047048Z",
     "shell.execute_reply": "2024-12-08T00:06:06.046196Z"
    },
    "papermill": {
     "duration": 0.554169,
     "end_time": "2024-12-08T00:06:06.048831",
     "exception": false,
     "start_time": "2024-12-08T00:06:05.494662",
     "status": "completed"
    },
    "tags": []
   },
   "outputs": [
    {
     "data": {
      "text/plain": [
       "0"
      ]
     },
     "execution_count": 6,
     "metadata": {},
     "output_type": "execute_result"
    }
   ],
   "source": [
    "df.duplicated().sum()"
   ]
  },
  {
   "cell_type": "code",
   "execution_count": 7,
   "id": "6f12f81d",
   "metadata": {
    "execution": {
     "iopub.execute_input": "2024-12-08T00:06:06.063567Z",
     "iopub.status.busy": "2024-12-08T00:06:06.063285Z",
     "iopub.status.idle": "2024-12-08T00:06:06.068342Z",
     "shell.execute_reply": "2024-12-08T00:06:06.067535Z"
    },
    "papermill": {
     "duration": 0.01427,
     "end_time": "2024-12-08T00:06:06.069876",
     "exception": false,
     "start_time": "2024-12-08T00:06:06.055606",
     "status": "completed"
    },
    "tags": []
   },
   "outputs": [
    {
     "data": {
      "text/plain": [
       "(399976, 3)"
      ]
     },
     "execution_count": 7,
     "metadata": {},
     "output_type": "execute_result"
    }
   ],
   "source": [
    "df.shape"
   ]
  },
  {
   "cell_type": "code",
   "execution_count": 8,
   "id": "e14d82e4",
   "metadata": {
    "execution": {
     "iopub.execute_input": "2024-12-08T00:06:06.083462Z",
     "iopub.status.busy": "2024-12-08T00:06:06.083203Z",
     "iopub.status.idle": "2024-12-08T00:06:06.343417Z",
     "shell.execute_reply": "2024-12-08T00:06:06.342471Z"
    },
    "papermill": {
     "duration": 0.268954,
     "end_time": "2024-12-08T00:06:06.345259",
     "exception": false,
     "start_time": "2024-12-08T00:06:06.076305",
     "status": "completed"
    },
    "tags": []
   },
   "outputs": [
    {
     "data": {
      "text/html": [
       "<div>\n",
       "<style scoped>\n",
       "    .dataframe tbody tr th:only-of-type {\n",
       "        vertical-align: middle;\n",
       "    }\n",
       "\n",
       "    .dataframe tbody tr th {\n",
       "        vertical-align: top;\n",
       "    }\n",
       "\n",
       "    .dataframe thead th {\n",
       "        text-align: right;\n",
       "    }\n",
       "</style>\n",
       "<table border=\"1\" class=\"dataframe\">\n",
       "  <thead>\n",
       "    <tr style=\"text-align: right;\">\n",
       "      <th></th>\n",
       "      <th>polarity</th>\n",
       "      <th>title_review</th>\n",
       "      <th>text_review</th>\n",
       "      <th>full_review</th>\n",
       "    </tr>\n",
       "  </thead>\n",
       "  <tbody>\n",
       "    <tr>\n",
       "      <th>0</th>\n",
       "      <td>2</td>\n",
       "      <td>Great CD</td>\n",
       "      <td>My lovely Pat has one of the GREAT voices of h...</td>\n",
       "      <td>Great CD My lovely Pat has one of the GREAT vo...</td>\n",
       "    </tr>\n",
       "    <tr>\n",
       "      <th>1</th>\n",
       "      <td>2</td>\n",
       "      <td>One of the best game music soundtracks - for a...</td>\n",
       "      <td>Despite the fact that I have only played a sma...</td>\n",
       "      <td>One of the best game music soundtracks - for a...</td>\n",
       "    </tr>\n",
       "    <tr>\n",
       "      <th>2</th>\n",
       "      <td>1</td>\n",
       "      <td>Batteries died within a year ...</td>\n",
       "      <td>I bought this charger in Jul 2003 and it worke...</td>\n",
       "      <td>Batteries died within a year ... I bought this...</td>\n",
       "    </tr>\n",
       "    <tr>\n",
       "      <th>3</th>\n",
       "      <td>2</td>\n",
       "      <td>works fine, but Maha Energy is better</td>\n",
       "      <td>Check out Maha Energy's website. Their Powerex...</td>\n",
       "      <td>works fine, but Maha Energy is better Check ou...</td>\n",
       "    </tr>\n",
       "    <tr>\n",
       "      <th>4</th>\n",
       "      <td>2</td>\n",
       "      <td>Great for the non-audiophile</td>\n",
       "      <td>Reviewed quite a bit of the combo players and ...</td>\n",
       "      <td>Great for the non-audiophile Reviewed quite a ...</td>\n",
       "    </tr>\n",
       "  </tbody>\n",
       "</table>\n",
       "</div>"
      ],
      "text/plain": [
       "   polarity                                       title_review  \\\n",
       "0         2                                           Great CD   \n",
       "1         2  One of the best game music soundtracks - for a...   \n",
       "2         1                   Batteries died within a year ...   \n",
       "3         2              works fine, but Maha Energy is better   \n",
       "4         2                       Great for the non-audiophile   \n",
       "\n",
       "                                         text_review  \\\n",
       "0  My lovely Pat has one of the GREAT voices of h...   \n",
       "1  Despite the fact that I have only played a sma...   \n",
       "2  I bought this charger in Jul 2003 and it worke...   \n",
       "3  Check out Maha Energy's website. Their Powerex...   \n",
       "4  Reviewed quite a bit of the combo players and ...   \n",
       "\n",
       "                                         full_review  \n",
       "0  Great CD My lovely Pat has one of the GREAT vo...  \n",
       "1  One of the best game music soundtracks - for a...  \n",
       "2  Batteries died within a year ... I bought this...  \n",
       "3  works fine, but Maha Energy is better Check ou...  \n",
       "4  Great for the non-audiophile Reviewed quite a ...  "
      ]
     },
     "execution_count": 8,
     "metadata": {},
     "output_type": "execute_result"
    }
   ],
   "source": [
    "df[\"full_review\"] = df[\"title_review\"] + \" \" + df[\"text_review\"]\n",
    "df.head()"
   ]
  },
  {
   "cell_type": "code",
   "execution_count": 9,
   "id": "f001b03a",
   "metadata": {
    "execution": {
     "iopub.execute_input": "2024-12-08T00:06:06.359932Z",
     "iopub.status.busy": "2024-12-08T00:06:06.359659Z",
     "iopub.status.idle": "2024-12-08T00:06:06.379120Z",
     "shell.execute_reply": "2024-12-08T00:06:06.378354Z"
    },
    "papermill": {
     "duration": 0.028618,
     "end_time": "2024-12-08T00:06:06.380707",
     "exception": false,
     "start_time": "2024-12-08T00:06:06.352089",
     "status": "completed"
    },
    "tags": []
   },
   "outputs": [
    {
     "data": {
      "text/html": [
       "<div>\n",
       "<style scoped>\n",
       "    .dataframe tbody tr th:only-of-type {\n",
       "        vertical-align: middle;\n",
       "    }\n",
       "\n",
       "    .dataframe tbody tr th {\n",
       "        vertical-align: top;\n",
       "    }\n",
       "\n",
       "    .dataframe thead th {\n",
       "        text-align: right;\n",
       "    }\n",
       "</style>\n",
       "<table border=\"1\" class=\"dataframe\">\n",
       "  <thead>\n",
       "    <tr style=\"text-align: right;\">\n",
       "      <th></th>\n",
       "      <th>polarity</th>\n",
       "      <th>title_review</th>\n",
       "      <th>text_review</th>\n",
       "      <th>full_review</th>\n",
       "    </tr>\n",
       "  </thead>\n",
       "  <tbody>\n",
       "    <tr>\n",
       "      <th>0</th>\n",
       "      <td>1</td>\n",
       "      <td>Great CD</td>\n",
       "      <td>My lovely Pat has one of the GREAT voices of h...</td>\n",
       "      <td>Great CD My lovely Pat has one of the GREAT vo...</td>\n",
       "    </tr>\n",
       "    <tr>\n",
       "      <th>1</th>\n",
       "      <td>1</td>\n",
       "      <td>One of the best game music soundtracks - for a...</td>\n",
       "      <td>Despite the fact that I have only played a sma...</td>\n",
       "      <td>One of the best game music soundtracks - for a...</td>\n",
       "    </tr>\n",
       "    <tr>\n",
       "      <th>2</th>\n",
       "      <td>0</td>\n",
       "      <td>Batteries died within a year ...</td>\n",
       "      <td>I bought this charger in Jul 2003 and it worke...</td>\n",
       "      <td>Batteries died within a year ... I bought this...</td>\n",
       "    </tr>\n",
       "    <tr>\n",
       "      <th>3</th>\n",
       "      <td>1</td>\n",
       "      <td>works fine, but Maha Energy is better</td>\n",
       "      <td>Check out Maha Energy's website. Their Powerex...</td>\n",
       "      <td>works fine, but Maha Energy is better Check ou...</td>\n",
       "    </tr>\n",
       "    <tr>\n",
       "      <th>4</th>\n",
       "      <td>1</td>\n",
       "      <td>Great for the non-audiophile</td>\n",
       "      <td>Reviewed quite a bit of the combo players and ...</td>\n",
       "      <td>Great for the non-audiophile Reviewed quite a ...</td>\n",
       "    </tr>\n",
       "  </tbody>\n",
       "</table>\n",
       "</div>"
      ],
      "text/plain": [
       "   polarity                                       title_review  \\\n",
       "0         1                                           Great CD   \n",
       "1         1  One of the best game music soundtracks - for a...   \n",
       "2         0                   Batteries died within a year ...   \n",
       "3         1              works fine, but Maha Energy is better   \n",
       "4         1                       Great for the non-audiophile   \n",
       "\n",
       "                                         text_review  \\\n",
       "0  My lovely Pat has one of the GREAT voices of h...   \n",
       "1  Despite the fact that I have only played a sma...   \n",
       "2  I bought this charger in Jul 2003 and it worke...   \n",
       "3  Check out Maha Energy's website. Their Powerex...   \n",
       "4  Reviewed quite a bit of the combo players and ...   \n",
       "\n",
       "                                         full_review  \n",
       "0  Great CD My lovely Pat has one of the GREAT vo...  \n",
       "1  One of the best game music soundtracks - for a...  \n",
       "2  Batteries died within a year ... I bought this...  \n",
       "3  works fine, but Maha Energy is better Check ou...  \n",
       "4  Great for the non-audiophile Reviewed quite a ...  "
      ]
     },
     "execution_count": 9,
     "metadata": {},
     "output_type": "execute_result"
    }
   ],
   "source": [
    "df['polarity']=df['polarity'].replace({2:1,1:0})\n",
    "df.head()"
   ]
  },
  {
   "cell_type": "code",
   "execution_count": 10,
   "id": "b3e5c9f6",
   "metadata": {
    "execution": {
     "iopub.execute_input": "2024-12-08T00:06:06.395383Z",
     "iopub.status.busy": "2024-12-08T00:06:06.395080Z",
     "iopub.status.idle": "2024-12-08T00:06:06.400552Z",
     "shell.execute_reply": "2024-12-08T00:06:06.399804Z"
    },
    "papermill": {
     "duration": 0.014344,
     "end_time": "2024-12-08T00:06:06.402074",
     "exception": false,
     "start_time": "2024-12-08T00:06:06.387730",
     "status": "completed"
    },
    "tags": []
   },
   "outputs": [],
   "source": [
    "def lowercasing(text):\n",
    "    return text.lower()\n",
    "\n",
    "def remove_noise(text):\n",
    "    # Remove punctuation, numbers, and symbols \n",
    "    return re.sub(r'[^a-zA-Z\\s]', '', text)\n",
    "\n",
    "def tokenization(text):\n",
    "    return word_tokenize(text)\n",
    "    \n",
    "def get_max_len(texts):\n",
    "  return max([len(text) for text in texts])   \n",
    "\n",
    "def remove_stopwords(tokens):\n",
    "    stop_words=set(stopwords.words('english'))\n",
    "    return [word for word in tokens if word not in stop_words]\n",
    "\n",
    "def stemming(tokens):\n",
    "    stemmer=PorterStemmer()\n",
    "    [stemmer.stem(token) for token in tokens]\n",
    "    return ' '.join(tokens)"
   ]
  },
  {
   "cell_type": "code",
   "execution_count": 11,
   "id": "3d45ffb6",
   "metadata": {
    "execution": {
     "iopub.execute_input": "2024-12-08T00:06:06.416475Z",
     "iopub.status.busy": "2024-12-08T00:06:06.416211Z",
     "iopub.status.idle": "2024-12-08T00:06:06.736690Z",
     "shell.execute_reply": "2024-12-08T00:06:06.735859Z"
    },
    "papermill": {
     "duration": 0.329973,
     "end_time": "2024-12-08T00:06:06.738772",
     "exception": false,
     "start_time": "2024-12-08T00:06:06.408799",
     "status": "completed"
    },
    "tags": []
   },
   "outputs": [],
   "source": [
    "df['cleaned_review'] = df['full_review'].apply(lowercasing)"
   ]
  },
  {
   "cell_type": "code",
   "execution_count": 12,
   "id": "6e87d5c1",
   "metadata": {
    "execution": {
     "iopub.execute_input": "2024-12-08T00:06:06.754311Z",
     "iopub.status.busy": "2024-12-08T00:06:06.754002Z",
     "iopub.status.idle": "2024-12-08T00:06:09.850834Z",
     "shell.execute_reply": "2024-12-08T00:06:09.850111Z"
    },
    "papermill": {
     "duration": 3.106677,
     "end_time": "2024-12-08T00:06:09.852893",
     "exception": false,
     "start_time": "2024-12-08T00:06:06.746216",
     "status": "completed"
    },
    "tags": []
   },
   "outputs": [],
   "source": [
    "df['cleaned_review'] = df['cleaned_review'].apply(remove_noise)"
   ]
  },
  {
   "cell_type": "code",
   "execution_count": 13,
   "id": "278994da",
   "metadata": {
    "execution": {
     "iopub.execute_input": "2024-12-08T00:06:09.868095Z",
     "iopub.status.busy": "2024-12-08T00:06:09.867817Z",
     "iopub.status.idle": "2024-12-08T00:08:17.584843Z",
     "shell.execute_reply": "2024-12-08T00:08:17.584105Z"
    },
    "papermill": {
     "duration": 127.72681,
     "end_time": "2024-12-08T00:08:17.587027",
     "exception": false,
     "start_time": "2024-12-08T00:06:09.860217",
     "status": "completed"
    },
    "tags": []
   },
   "outputs": [],
   "source": [
    "# Remove emojis\n",
    "df['cleaned_review'] = df['cleaned_review'].apply(lambda x: emoji.demojize(x))"
   ]
  },
  {
   "cell_type": "code",
   "execution_count": 14,
   "id": "fe912602",
   "metadata": {
    "execution": {
     "iopub.execute_input": "2024-12-08T00:08:17.602413Z",
     "iopub.status.busy": "2024-12-08T00:08:17.602100Z",
     "iopub.status.idle": "2024-12-08T00:10:08.249026Z",
     "shell.execute_reply": "2024-12-08T00:10:08.248333Z"
    },
    "papermill": {
     "duration": 110.656826,
     "end_time": "2024-12-08T00:10:08.251282",
     "exception": false,
     "start_time": "2024-12-08T00:08:17.594456",
     "status": "completed"
    },
    "tags": []
   },
   "outputs": [],
   "source": [
    "df['cleaned_review'] = df['cleaned_review'].apply(tokenization)"
   ]
  },
  {
   "cell_type": "code",
   "execution_count": 15,
   "id": "9f4c61cb",
   "metadata": {
    "execution": {
     "iopub.execute_input": "2024-12-08T00:10:08.266532Z",
     "iopub.status.busy": "2024-12-08T00:10:08.266235Z",
     "iopub.status.idle": "2024-12-08T00:10:08.370076Z",
     "shell.execute_reply": "2024-12-08T00:10:08.369003Z"
    },
    "papermill": {
     "duration": 0.11335,
     "end_time": "2024-12-08T00:10:08.371909",
     "exception": false,
     "start_time": "2024-12-08T00:10:08.258559",
     "status": "completed"
    },
    "tags": []
   },
   "outputs": [],
   "source": [
    "sent_length = get_max_len(df['cleaned_review'])"
   ]
  },
  {
   "cell_type": "code",
   "execution_count": 16,
   "id": "31d65449",
   "metadata": {
    "execution": {
     "iopub.execute_input": "2024-12-08T00:10:08.387422Z",
     "iopub.status.busy": "2024-12-08T00:10:08.386762Z",
     "iopub.status.idle": "2024-12-08T00:10:53.733841Z",
     "shell.execute_reply": "2024-12-08T00:10:53.733114Z"
    },
    "papermill": {
     "duration": 45.356992,
     "end_time": "2024-12-08T00:10:53.735814",
     "exception": false,
     "start_time": "2024-12-08T00:10:08.378822",
     "status": "completed"
    },
    "tags": []
   },
   "outputs": [],
   "source": [
    "df['cleaned_review'] = df['cleaned_review'].apply(remove_stopwords)"
   ]
  },
  {
   "cell_type": "code",
   "execution_count": 17,
   "id": "7688c48a",
   "metadata": {
    "execution": {
     "iopub.execute_input": "2024-12-08T00:10:53.751240Z",
     "iopub.status.busy": "2024-12-08T00:10:53.750747Z",
     "iopub.status.idle": "2024-12-08T00:15:23.797964Z",
     "shell.execute_reply": "2024-12-08T00:15:23.796971Z"
    },
    "papermill": {
     "duration": 270.057216,
     "end_time": "2024-12-08T00:15:23.800296",
     "exception": false,
     "start_time": "2024-12-08T00:10:53.743080",
     "status": "completed"
    },
    "tags": []
   },
   "outputs": [],
   "source": [
    "df['cleaned_review'] = df['cleaned_review'].apply(stemming)"
   ]
  },
  {
   "cell_type": "code",
   "execution_count": 18,
   "id": "d0b98bbd",
   "metadata": {
    "execution": {
     "iopub.execute_input": "2024-12-08T00:15:23.815937Z",
     "iopub.status.busy": "2024-12-08T00:15:23.815638Z",
     "iopub.status.idle": "2024-12-08T00:15:23.825726Z",
     "shell.execute_reply": "2024-12-08T00:15:23.824852Z"
    },
    "papermill": {
     "duration": 0.019687,
     "end_time": "2024-12-08T00:15:23.827373",
     "exception": false,
     "start_time": "2024-12-08T00:15:23.807686",
     "status": "completed"
    },
    "tags": []
   },
   "outputs": [
    {
     "data": {
      "text/html": [
       "<div>\n",
       "<style scoped>\n",
       "    .dataframe tbody tr th:only-of-type {\n",
       "        vertical-align: middle;\n",
       "    }\n",
       "\n",
       "    .dataframe tbody tr th {\n",
       "        vertical-align: top;\n",
       "    }\n",
       "\n",
       "    .dataframe thead th {\n",
       "        text-align: right;\n",
       "    }\n",
       "</style>\n",
       "<table border=\"1\" class=\"dataframe\">\n",
       "  <thead>\n",
       "    <tr style=\"text-align: right;\">\n",
       "      <th></th>\n",
       "      <th>polarity</th>\n",
       "      <th>title_review</th>\n",
       "      <th>text_review</th>\n",
       "      <th>full_review</th>\n",
       "      <th>cleaned_review</th>\n",
       "    </tr>\n",
       "  </thead>\n",
       "  <tbody>\n",
       "    <tr>\n",
       "      <th>0</th>\n",
       "      <td>1</td>\n",
       "      <td>Great CD</td>\n",
       "      <td>My lovely Pat has one of the GREAT voices of h...</td>\n",
       "      <td>Great CD My lovely Pat has one of the GREAT vo...</td>\n",
       "      <td>great cd lovely pat one great voices generatio...</td>\n",
       "    </tr>\n",
       "    <tr>\n",
       "      <th>1</th>\n",
       "      <td>1</td>\n",
       "      <td>One of the best game music soundtracks - for a...</td>\n",
       "      <td>Despite the fact that I have only played a sma...</td>\n",
       "      <td>One of the best game music soundtracks - for a...</td>\n",
       "      <td>one best game music soundtracks game didnt rea...</td>\n",
       "    </tr>\n",
       "    <tr>\n",
       "      <th>2</th>\n",
       "      <td>0</td>\n",
       "      <td>Batteries died within a year ...</td>\n",
       "      <td>I bought this charger in Jul 2003 and it worke...</td>\n",
       "      <td>Batteries died within a year ... I bought this...</td>\n",
       "      <td>batteries died within year bought charger jul ...</td>\n",
       "    </tr>\n",
       "    <tr>\n",
       "      <th>3</th>\n",
       "      <td>1</td>\n",
       "      <td>works fine, but Maha Energy is better</td>\n",
       "      <td>Check out Maha Energy's website. Their Powerex...</td>\n",
       "      <td>works fine, but Maha Energy is better Check ou...</td>\n",
       "      <td>works fine maha energy better check maha energ...</td>\n",
       "    </tr>\n",
       "    <tr>\n",
       "      <th>4</th>\n",
       "      <td>1</td>\n",
       "      <td>Great for the non-audiophile</td>\n",
       "      <td>Reviewed quite a bit of the combo players and ...</td>\n",
       "      <td>Great for the non-audiophile Reviewed quite a ...</td>\n",
       "      <td>great nonaudiophile reviewed quite bit combo p...</td>\n",
       "    </tr>\n",
       "  </tbody>\n",
       "</table>\n",
       "</div>"
      ],
      "text/plain": [
       "   polarity                                       title_review  \\\n",
       "0         1                                           Great CD   \n",
       "1         1  One of the best game music soundtracks - for a...   \n",
       "2         0                   Batteries died within a year ...   \n",
       "3         1              works fine, but Maha Energy is better   \n",
       "4         1                       Great for the non-audiophile   \n",
       "\n",
       "                                         text_review  \\\n",
       "0  My lovely Pat has one of the GREAT voices of h...   \n",
       "1  Despite the fact that I have only played a sma...   \n",
       "2  I bought this charger in Jul 2003 and it worke...   \n",
       "3  Check out Maha Energy's website. Their Powerex...   \n",
       "4  Reviewed quite a bit of the combo players and ...   \n",
       "\n",
       "                                         full_review  \\\n",
       "0  Great CD My lovely Pat has one of the GREAT vo...   \n",
       "1  One of the best game music soundtracks - for a...   \n",
       "2  Batteries died within a year ... I bought this...   \n",
       "3  works fine, but Maha Energy is better Check ou...   \n",
       "4  Great for the non-audiophile Reviewed quite a ...   \n",
       "\n",
       "                                      cleaned_review  \n",
       "0  great cd lovely pat one great voices generatio...  \n",
       "1  one best game music soundtracks game didnt rea...  \n",
       "2  batteries died within year bought charger jul ...  \n",
       "3  works fine maha energy better check maha energ...  \n",
       "4  great nonaudiophile reviewed quite bit combo p...  "
      ]
     },
     "execution_count": 18,
     "metadata": {},
     "output_type": "execute_result"
    }
   ],
   "source": [
    "df.head()"
   ]
  },
  {
   "cell_type": "code",
   "execution_count": 19,
   "id": "3c23350c",
   "metadata": {
    "execution": {
     "iopub.execute_input": "2024-12-08T00:15:23.842790Z",
     "iopub.status.busy": "2024-12-08T00:15:23.842526Z",
     "iopub.status.idle": "2024-12-08T00:15:38.004282Z",
     "shell.execute_reply": "2024-12-08T00:15:38.003499Z"
    },
    "papermill": {
     "duration": 14.171758,
     "end_time": "2024-12-08T00:15:38.006289",
     "exception": false,
     "start_time": "2024-12-08T00:15:23.834531",
     "status": "completed"
    },
    "tags": []
   },
   "outputs": [],
   "source": [
    "voc_size = 100000\n",
    "token = Tokenizer(num_words=voc_size , oov_token='UNK')\n",
    "token.fit_on_texts(df['cleaned_review'])"
   ]
  },
  {
   "cell_type": "code",
   "execution_count": 20,
   "id": "e84732a6",
   "metadata": {
    "execution": {
     "iopub.execute_input": "2024-12-08T00:15:38.022360Z",
     "iopub.status.busy": "2024-12-08T00:15:38.022040Z",
     "iopub.status.idle": "2024-12-08T00:15:47.910130Z",
     "shell.execute_reply": "2024-12-08T00:15:47.909198Z"
    },
    "papermill": {
     "duration": 9.89839,
     "end_time": "2024-12-08T00:15:47.912204",
     "exception": false,
     "start_time": "2024-12-08T00:15:38.013814",
     "status": "completed"
    },
    "tags": []
   },
   "outputs": [],
   "source": [
    "# Convert texts to sequences\n",
    "df['cleaned_review'] = token.texts_to_sequences(df['cleaned_review'])"
   ]
  },
  {
   "cell_type": "code",
   "execution_count": 21,
   "id": "5bbc4794",
   "metadata": {
    "execution": {
     "iopub.execute_input": "2024-12-08T00:15:47.928579Z",
     "iopub.status.busy": "2024-12-08T00:15:47.927819Z",
     "iopub.status.idle": "2024-12-08T00:15:49.621876Z",
     "shell.execute_reply": "2024-12-08T00:15:49.620907Z"
    },
    "papermill": {
     "duration": 1.704204,
     "end_time": "2024-12-08T00:15:49.623992",
     "exception": false,
     "start_time": "2024-12-08T00:15:47.919788",
     "status": "completed"
    },
    "tags": []
   },
   "outputs": [],
   "source": [
    "# Pad sequences to the same length\n",
    "df['cleaned_review'] = pad_sequences(df['cleaned_review'], maxlen=sent_length, padding='post', truncating='post')"
   ]
  },
  {
   "cell_type": "code",
   "execution_count": 22,
   "id": "305f5c3d",
   "metadata": {
    "execution": {
     "iopub.execute_input": "2024-12-08T00:15:49.640661Z",
     "iopub.status.busy": "2024-12-08T00:15:49.640042Z",
     "iopub.status.idle": "2024-12-08T00:15:49.671295Z",
     "shell.execute_reply": "2024-12-08T00:15:49.670532Z"
    },
    "papermill": {
     "duration": 0.04145,
     "end_time": "2024-12-08T00:15:49.673123",
     "exception": false,
     "start_time": "2024-12-08T00:15:49.631673",
     "status": "completed"
    },
    "tags": []
   },
   "outputs": [],
   "source": [
    "x = df['cleaned_review']\n",
    "y = df['polarity']\n",
    "\n",
    "x_train, x_test, y_train, y_test = train_test_split(x, y, test_size=0.2, random_state=42)"
   ]
  },
  {
   "cell_type": "code",
   "execution_count": 23,
   "id": "290f1be6",
   "metadata": {
    "execution": {
     "iopub.execute_input": "2024-12-08T00:15:49.689914Z",
     "iopub.status.busy": "2024-12-08T00:15:49.689297Z",
     "iopub.status.idle": "2024-12-08T00:15:50.471101Z",
     "shell.execute_reply": "2024-12-08T00:15:50.470344Z"
    },
    "papermill": {
     "duration": 0.791893,
     "end_time": "2024-12-08T00:15:50.472729",
     "exception": false,
     "start_time": "2024-12-08T00:15:49.680836",
     "status": "completed"
    },
    "tags": []
   },
   "outputs": [
    {
     "name": "stderr",
     "output_type": "stream",
     "text": [
      "/opt/conda/lib/python3.10/site-packages/keras/src/layers/core/embedding.py:90: UserWarning: Argument `input_length` is deprecated. Just remove it.\n",
      "  warnings.warn(\n"
     ]
    },
    {
     "data": {
      "text/html": [
       "<pre style=\"white-space:pre;overflow-x:auto;line-height:normal;font-family:Menlo,'DejaVu Sans Mono',consolas,'Courier New',monospace\"><span style=\"font-weight: bold\">Model: \"sequential\"</span>\n",
       "</pre>\n"
      ],
      "text/plain": [
       "\u001b[1mModel: \"sequential\"\u001b[0m\n"
      ]
     },
     "metadata": {},
     "output_type": "display_data"
    },
    {
     "data": {
      "text/html": [
       "<pre style=\"white-space:pre;overflow-x:auto;line-height:normal;font-family:Menlo,'DejaVu Sans Mono',consolas,'Courier New',monospace\">┏━━━━━━━━━━━━━━━━━━━━━━━━━━━━━━━━━┳━━━━━━━━━━━━━━━━━━━━━━━━┳━━━━━━━━━━━━━━━┓\n",
       "┃<span style=\"font-weight: bold\"> Layer (type)                    </span>┃<span style=\"font-weight: bold\"> Output Shape           </span>┃<span style=\"font-weight: bold\">       Param # </span>┃\n",
       "┡━━━━━━━━━━━━━━━━━━━━━━━━━━━━━━━━━╇━━━━━━━━━━━━━━━━━━━━━━━━╇━━━━━━━━━━━━━━━┩\n",
       "│ embedding (<span style=\"color: #0087ff; text-decoration-color: #0087ff\">Embedding</span>)           │ ?                      │   <span style=\"color: #00af00; text-decoration-color: #00af00\">0</span> (unbuilt) │\n",
       "├─────────────────────────────────┼────────────────────────┼───────────────┤\n",
       "│ simple_rnn (<span style=\"color: #0087ff; text-decoration-color: #0087ff\">SimpleRNN</span>)          │ ?                      │   <span style=\"color: #00af00; text-decoration-color: #00af00\">0</span> (unbuilt) │\n",
       "├─────────────────────────────────┼────────────────────────┼───────────────┤\n",
       "│ dropout (<span style=\"color: #0087ff; text-decoration-color: #0087ff\">Dropout</span>)               │ ?                      │   <span style=\"color: #00af00; text-decoration-color: #00af00\">0</span> (unbuilt) │\n",
       "├─────────────────────────────────┼────────────────────────┼───────────────┤\n",
       "│ simple_rnn_1 (<span style=\"color: #0087ff; text-decoration-color: #0087ff\">SimpleRNN</span>)        │ ?                      │   <span style=\"color: #00af00; text-decoration-color: #00af00\">0</span> (unbuilt) │\n",
       "├─────────────────────────────────┼────────────────────────┼───────────────┤\n",
       "│ dropout_1 (<span style=\"color: #0087ff; text-decoration-color: #0087ff\">Dropout</span>)             │ ?                      │   <span style=\"color: #00af00; text-decoration-color: #00af00\">0</span> (unbuilt) │\n",
       "├─────────────────────────────────┼────────────────────────┼───────────────┤\n",
       "│ simple_rnn_2 (<span style=\"color: #0087ff; text-decoration-color: #0087ff\">SimpleRNN</span>)        │ ?                      │   <span style=\"color: #00af00; text-decoration-color: #00af00\">0</span> (unbuilt) │\n",
       "├─────────────────────────────────┼────────────────────────┼───────────────┤\n",
       "│ dropout_2 (<span style=\"color: #0087ff; text-decoration-color: #0087ff\">Dropout</span>)             │ ?                      │   <span style=\"color: #00af00; text-decoration-color: #00af00\">0</span> (unbuilt) │\n",
       "├─────────────────────────────────┼────────────────────────┼───────────────┤\n",
       "│ simple_rnn_3 (<span style=\"color: #0087ff; text-decoration-color: #0087ff\">SimpleRNN</span>)        │ ?                      │   <span style=\"color: #00af00; text-decoration-color: #00af00\">0</span> (unbuilt) │\n",
       "├─────────────────────────────────┼────────────────────────┼───────────────┤\n",
       "│ dropout_3 (<span style=\"color: #0087ff; text-decoration-color: #0087ff\">Dropout</span>)             │ ?                      │   <span style=\"color: #00af00; text-decoration-color: #00af00\">0</span> (unbuilt) │\n",
       "├─────────────────────────────────┼────────────────────────┼───────────────┤\n",
       "│ simple_rnn_4 (<span style=\"color: #0087ff; text-decoration-color: #0087ff\">SimpleRNN</span>)        │ ?                      │   <span style=\"color: #00af00; text-decoration-color: #00af00\">0</span> (unbuilt) │\n",
       "├─────────────────────────────────┼────────────────────────┼───────────────┤\n",
       "│ dropout_4 (<span style=\"color: #0087ff; text-decoration-color: #0087ff\">Dropout</span>)             │ ?                      │   <span style=\"color: #00af00; text-decoration-color: #00af00\">0</span> (unbuilt) │\n",
       "├─────────────────────────────────┼────────────────────────┼───────────────┤\n",
       "│ dense (<span style=\"color: #0087ff; text-decoration-color: #0087ff\">Dense</span>)                   │ ?                      │   <span style=\"color: #00af00; text-decoration-color: #00af00\">0</span> (unbuilt) │\n",
       "├─────────────────────────────────┼────────────────────────┼───────────────┤\n",
       "│ batch_normalization             │ ?                      │   <span style=\"color: #00af00; text-decoration-color: #00af00\">0</span> (unbuilt) │\n",
       "│ (<span style=\"color: #0087ff; text-decoration-color: #0087ff\">BatchNormalization</span>)            │                        │               │\n",
       "├─────────────────────────────────┼────────────────────────┼───────────────┤\n",
       "│ dropout_5 (<span style=\"color: #0087ff; text-decoration-color: #0087ff\">Dropout</span>)             │ ?                      │   <span style=\"color: #00af00; text-decoration-color: #00af00\">0</span> (unbuilt) │\n",
       "├─────────────────────────────────┼────────────────────────┼───────────────┤\n",
       "│ dense_1 (<span style=\"color: #0087ff; text-decoration-color: #0087ff\">Dense</span>)                 │ ?                      │   <span style=\"color: #00af00; text-decoration-color: #00af00\">0</span> (unbuilt) │\n",
       "├─────────────────────────────────┼────────────────────────┼───────────────┤\n",
       "│ batch_normalization_1           │ ?                      │   <span style=\"color: #00af00; text-decoration-color: #00af00\">0</span> (unbuilt) │\n",
       "│ (<span style=\"color: #0087ff; text-decoration-color: #0087ff\">BatchNormalization</span>)            │                        │               │\n",
       "├─────────────────────────────────┼────────────────────────┼───────────────┤\n",
       "│ dropout_6 (<span style=\"color: #0087ff; text-decoration-color: #0087ff\">Dropout</span>)             │ ?                      │   <span style=\"color: #00af00; text-decoration-color: #00af00\">0</span> (unbuilt) │\n",
       "├─────────────────────────────────┼────────────────────────┼───────────────┤\n",
       "│ dense_2 (<span style=\"color: #0087ff; text-decoration-color: #0087ff\">Dense</span>)                 │ ?                      │   <span style=\"color: #00af00; text-decoration-color: #00af00\">0</span> (unbuilt) │\n",
       "└─────────────────────────────────┴────────────────────────┴───────────────┘\n",
       "</pre>\n"
      ],
      "text/plain": [
       "┏━━━━━━━━━━━━━━━━━━━━━━━━━━━━━━━━━┳━━━━━━━━━━━━━━━━━━━━━━━━┳━━━━━━━━━━━━━━━┓\n",
       "┃\u001b[1m \u001b[0m\u001b[1mLayer (type)                   \u001b[0m\u001b[1m \u001b[0m┃\u001b[1m \u001b[0m\u001b[1mOutput Shape          \u001b[0m\u001b[1m \u001b[0m┃\u001b[1m \u001b[0m\u001b[1m      Param #\u001b[0m\u001b[1m \u001b[0m┃\n",
       "┡━━━━━━━━━━━━━━━━━━━━━━━━━━━━━━━━━╇━━━━━━━━━━━━━━━━━━━━━━━━╇━━━━━━━━━━━━━━━┩\n",
       "│ embedding (\u001b[38;5;33mEmbedding\u001b[0m)           │ ?                      │   \u001b[38;5;34m0\u001b[0m (unbuilt) │\n",
       "├─────────────────────────────────┼────────────────────────┼───────────────┤\n",
       "│ simple_rnn (\u001b[38;5;33mSimpleRNN\u001b[0m)          │ ?                      │   \u001b[38;5;34m0\u001b[0m (unbuilt) │\n",
       "├─────────────────────────────────┼────────────────────────┼───────────────┤\n",
       "│ dropout (\u001b[38;5;33mDropout\u001b[0m)               │ ?                      │   \u001b[38;5;34m0\u001b[0m (unbuilt) │\n",
       "├─────────────────────────────────┼────────────────────────┼───────────────┤\n",
       "│ simple_rnn_1 (\u001b[38;5;33mSimpleRNN\u001b[0m)        │ ?                      │   \u001b[38;5;34m0\u001b[0m (unbuilt) │\n",
       "├─────────────────────────────────┼────────────────────────┼───────────────┤\n",
       "│ dropout_1 (\u001b[38;5;33mDropout\u001b[0m)             │ ?                      │   \u001b[38;5;34m0\u001b[0m (unbuilt) │\n",
       "├─────────────────────────────────┼────────────────────────┼───────────────┤\n",
       "│ simple_rnn_2 (\u001b[38;5;33mSimpleRNN\u001b[0m)        │ ?                      │   \u001b[38;5;34m0\u001b[0m (unbuilt) │\n",
       "├─────────────────────────────────┼────────────────────────┼───────────────┤\n",
       "│ dropout_2 (\u001b[38;5;33mDropout\u001b[0m)             │ ?                      │   \u001b[38;5;34m0\u001b[0m (unbuilt) │\n",
       "├─────────────────────────────────┼────────────────────────┼───────────────┤\n",
       "│ simple_rnn_3 (\u001b[38;5;33mSimpleRNN\u001b[0m)        │ ?                      │   \u001b[38;5;34m0\u001b[0m (unbuilt) │\n",
       "├─────────────────────────────────┼────────────────────────┼───────────────┤\n",
       "│ dropout_3 (\u001b[38;5;33mDropout\u001b[0m)             │ ?                      │   \u001b[38;5;34m0\u001b[0m (unbuilt) │\n",
       "├─────────────────────────────────┼────────────────────────┼───────────────┤\n",
       "│ simple_rnn_4 (\u001b[38;5;33mSimpleRNN\u001b[0m)        │ ?                      │   \u001b[38;5;34m0\u001b[0m (unbuilt) │\n",
       "├─────────────────────────────────┼────────────────────────┼───────────────┤\n",
       "│ dropout_4 (\u001b[38;5;33mDropout\u001b[0m)             │ ?                      │   \u001b[38;5;34m0\u001b[0m (unbuilt) │\n",
       "├─────────────────────────────────┼────────────────────────┼───────────────┤\n",
       "│ dense (\u001b[38;5;33mDense\u001b[0m)                   │ ?                      │   \u001b[38;5;34m0\u001b[0m (unbuilt) │\n",
       "├─────────────────────────────────┼────────────────────────┼───────────────┤\n",
       "│ batch_normalization             │ ?                      │   \u001b[38;5;34m0\u001b[0m (unbuilt) │\n",
       "│ (\u001b[38;5;33mBatchNormalization\u001b[0m)            │                        │               │\n",
       "├─────────────────────────────────┼────────────────────────┼───────────────┤\n",
       "│ dropout_5 (\u001b[38;5;33mDropout\u001b[0m)             │ ?                      │   \u001b[38;5;34m0\u001b[0m (unbuilt) │\n",
       "├─────────────────────────────────┼────────────────────────┼───────────────┤\n",
       "│ dense_1 (\u001b[38;5;33mDense\u001b[0m)                 │ ?                      │   \u001b[38;5;34m0\u001b[0m (unbuilt) │\n",
       "├─────────────────────────────────┼────────────────────────┼───────────────┤\n",
       "│ batch_normalization_1           │ ?                      │   \u001b[38;5;34m0\u001b[0m (unbuilt) │\n",
       "│ (\u001b[38;5;33mBatchNormalization\u001b[0m)            │                        │               │\n",
       "├─────────────────────────────────┼────────────────────────┼───────────────┤\n",
       "│ dropout_6 (\u001b[38;5;33mDropout\u001b[0m)             │ ?                      │   \u001b[38;5;34m0\u001b[0m (unbuilt) │\n",
       "├─────────────────────────────────┼────────────────────────┼───────────────┤\n",
       "│ dense_2 (\u001b[38;5;33mDense\u001b[0m)                 │ ?                      │   \u001b[38;5;34m0\u001b[0m (unbuilt) │\n",
       "└─────────────────────────────────┴────────────────────────┴───────────────┘\n"
      ]
     },
     "metadata": {},
     "output_type": "display_data"
    },
    {
     "data": {
      "text/html": [
       "<pre style=\"white-space:pre;overflow-x:auto;line-height:normal;font-family:Menlo,'DejaVu Sans Mono',consolas,'Courier New',monospace\"><span style=\"font-weight: bold\"> Total params: </span><span style=\"color: #00af00; text-decoration-color: #00af00\">0</span> (0.00 B)\n",
       "</pre>\n"
      ],
      "text/plain": [
       "\u001b[1m Total params: \u001b[0m\u001b[38;5;34m0\u001b[0m (0.00 B)\n"
      ]
     },
     "metadata": {},
     "output_type": "display_data"
    },
    {
     "data": {
      "text/html": [
       "<pre style=\"white-space:pre;overflow-x:auto;line-height:normal;font-family:Menlo,'DejaVu Sans Mono',consolas,'Courier New',monospace\"><span style=\"font-weight: bold\"> Trainable params: </span><span style=\"color: #00af00; text-decoration-color: #00af00\">0</span> (0.00 B)\n",
       "</pre>\n"
      ],
      "text/plain": [
       "\u001b[1m Trainable params: \u001b[0m\u001b[38;5;34m0\u001b[0m (0.00 B)\n"
      ]
     },
     "metadata": {},
     "output_type": "display_data"
    },
    {
     "data": {
      "text/html": [
       "<pre style=\"white-space:pre;overflow-x:auto;line-height:normal;font-family:Menlo,'DejaVu Sans Mono',consolas,'Courier New',monospace\"><span style=\"font-weight: bold\"> Non-trainable params: </span><span style=\"color: #00af00; text-decoration-color: #00af00\">0</span> (0.00 B)\n",
       "</pre>\n"
      ],
      "text/plain": [
       "\u001b[1m Non-trainable params: \u001b[0m\u001b[38;5;34m0\u001b[0m (0.00 B)\n"
      ]
     },
     "metadata": {},
     "output_type": "display_data"
    }
   ],
   "source": [
    "# RNN Model\n",
    "\n",
    "embedding_dim = 1000\n",
    "\n",
    "model = Sequential()\n",
    "model.add(Embedding(voc_size+1, embedding_dim, mask_zero=True, input_length=sent_length))\n",
    "\n",
    "model.add(SimpleRNN(100, return_sequences=True, recurrent_dropout=0.2, dropout=0.2))\n",
    "model.add(Dropout(0.5))\n",
    "\n",
    "model.add(SimpleRNN(100, return_sequences=True, recurrent_dropout=0.2, dropout=0.2))\n",
    "model.add(Dropout(0.5))\n",
    "\n",
    "model.add(SimpleRNN(100, return_sequences=True, recurrent_dropout=0.2, dropout=0.2))\n",
    "model.add(Dropout(0.5))\n",
    "\n",
    "\n",
    "model.add(SimpleRNN(100, return_sequences=True, recurrent_dropout=0.2, dropout=0.2))\n",
    "model.add(Dropout(0.5))\n",
    "\n",
    "model.add(SimpleRNN(100, return_sequences=False, recurrent_dropout=0.2, dropout=0.2))\n",
    "model.add(Dropout(0.5))\n",
    "\n",
    "model.add(Dense(128, activation='relu'))\n",
    "model.add(BatchNormalization())\n",
    "model.add(Dropout(0.5))\n",
    "\n",
    "model.add(Dense(64, activation='relu'))\n",
    "model.add(BatchNormalization())\n",
    "model.add(Dropout(0.5))\n",
    "\n",
    "model.add(Dense(1, activation='sigmoid'))\n",
    "\n",
    "model.compile(loss='binary_crossentropy', optimizer='adam', metrics=['accuracy'])\n",
    "\n",
    "model.summary()"
   ]
  },
  {
   "cell_type": "code",
   "execution_count": 24,
   "id": "0213ef58",
   "metadata": {
    "execution": {
     "iopub.execute_input": "2024-12-08T00:15:50.490775Z",
     "iopub.status.busy": "2024-12-08T00:15:50.490460Z",
     "iopub.status.idle": "2024-12-08T00:15:50.494874Z",
     "shell.execute_reply": "2024-12-08T00:15:50.494030Z"
    },
    "papermill": {
     "duration": 0.015096,
     "end_time": "2024-12-08T00:15:50.496422",
     "exception": false,
     "start_time": "2024-12-08T00:15:50.481326",
     "status": "completed"
    },
    "tags": []
   },
   "outputs": [],
   "source": [
    "# Callbacks\n",
    "e_stopping = EarlyStopping(monitor='val_loss', patience=15, mode='max',restore_best_weights=True)\n",
    "callbacklist = [e_stopping]\n",
    "\n",
    "batch_size = 256\n",
    "epochs = 100"
   ]
  },
  {
   "cell_type": "code",
   "execution_count": 25,
   "id": "a631bb85",
   "metadata": {
    "execution": {
     "iopub.execute_input": "2024-12-08T00:15:50.514531Z",
     "iopub.status.busy": "2024-12-08T00:15:50.514017Z",
     "iopub.status.idle": "2024-12-08T00:20:11.855930Z",
     "shell.execute_reply": "2024-12-08T00:20:11.855204Z"
    },
    "papermill": {
     "duration": 261.353135,
     "end_time": "2024-12-08T00:20:11.858032",
     "exception": false,
     "start_time": "2024-12-08T00:15:50.504897",
     "status": "completed"
    },
    "tags": []
   },
   "outputs": [
    {
     "name": "stdout",
     "output_type": "stream",
     "text": [
      "Epoch 1/100\n"
     ]
    },
    {
     "name": "stderr",
     "output_type": "stream",
     "text": [
      "/opt/conda/lib/python3.10/site-packages/tensorflow/python/framework/indexed_slices.py:446: UserWarning: Converting sparse IndexedSlices to a dense Tensor with 100001000 elements. This may consume a large amount of memory.\n",
      "  warnings.warn(\n",
      "WARNING: All log messages before absl::InitializeLog() is called are written to STDERR\n",
      "I0000 00:00:1733616962.677646      65 service.cc:145] XLA service 0x7e2cfc009a70 initialized for platform CUDA (this does not guarantee that XLA will be used). Devices:\n",
      "I0000 00:00:1733616962.677714      65 service.cc:153]   StreamExecutor device (0): Tesla P100-PCIE-16GB, Compute Capability 6.0\n"
     ]
    },
    {
     "name": "stdout",
     "output_type": "stream",
     "text": [
      "\u001b[1m  10/1000\u001b[0m \u001b[37m━━━━━━━━━━━━━━━━━━━━\u001b[0m \u001b[1m12s\u001b[0m 13ms/step - accuracy: 0.5020 - loss: 0.9765"
     ]
    },
    {
     "name": "stderr",
     "output_type": "stream",
     "text": [
      "I0000 00:00:1733616991.372771      65 device_compiler.h:188] Compiled cluster using XLA!  This line is logged at most once for the lifetime of the process.\n"
     ]
    },
    {
     "name": "stdout",
     "output_type": "stream",
     "text": [
      "\u001b[1m1000/1000\u001b[0m \u001b[32m━━━━━━━━━━━━━━━━━━━━\u001b[0m\u001b[37m\u001b[0m \u001b[1m83s\u001b[0m 43ms/step - accuracy: 0.5826 - loss: 0.7385 - val_accuracy: 0.7208 - val_loss: 0.6203\n",
      "Epoch 2/100\n",
      "\u001b[1m1000/1000\u001b[0m \u001b[32m━━━━━━━━━━━━━━━━━━━━\u001b[0m\u001b[37m\u001b[0m \u001b[1m12s\u001b[0m 12ms/step - accuracy: 0.7409 - loss: 0.5417 - val_accuracy: 0.7310 - val_loss: 0.5390\n",
      "Epoch 3/100\n",
      "\u001b[1m1000/1000\u001b[0m \u001b[32m━━━━━━━━━━━━━━━━━━━━\u001b[0m\u001b[37m\u001b[0m \u001b[1m12s\u001b[0m 12ms/step - accuracy: 0.7615 - loss: 0.5050 - val_accuracy: 0.7392 - val_loss: 0.5264\n",
      "Epoch 4/100\n",
      "\u001b[1m1000/1000\u001b[0m \u001b[32m━━━━━━━━━━━━━━━━━━━━\u001b[0m\u001b[37m\u001b[0m \u001b[1m12s\u001b[0m 12ms/step - accuracy: 0.7687 - loss: 0.4859 - val_accuracy: 0.7404 - val_loss: 0.5245\n",
      "Epoch 5/100\n",
      "\u001b[1m1000/1000\u001b[0m \u001b[32m━━━━━━━━━━━━━━━━━━━━\u001b[0m\u001b[37m\u001b[0m \u001b[1m12s\u001b[0m 12ms/step - accuracy: 0.7742 - loss: 0.4750 - val_accuracy: 0.7413 - val_loss: 0.5272\n",
      "Epoch 6/100\n",
      "\u001b[1m1000/1000\u001b[0m \u001b[32m━━━━━━━━━━━━━━━━━━━━\u001b[0m\u001b[37m\u001b[0m \u001b[1m12s\u001b[0m 12ms/step - accuracy: 0.7751 - loss: 0.4691 - val_accuracy: 0.7409 - val_loss: 0.5265\n",
      "Epoch 7/100\n",
      "\u001b[1m1000/1000\u001b[0m \u001b[32m━━━━━━━━━━━━━━━━━━━━\u001b[0m\u001b[37m\u001b[0m \u001b[1m12s\u001b[0m 12ms/step - accuracy: 0.7756 - loss: 0.4680 - val_accuracy: 0.7384 - val_loss: 0.5245\n",
      "Epoch 8/100\n",
      "\u001b[1m1000/1000\u001b[0m \u001b[32m━━━━━━━━━━━━━━━━━━━━\u001b[0m\u001b[37m\u001b[0m \u001b[1m12s\u001b[0m 12ms/step - accuracy: 0.7784 - loss: 0.4652 - val_accuracy: 0.7382 - val_loss: 0.5281\n",
      "Epoch 9/100\n",
      "\u001b[1m1000/1000\u001b[0m \u001b[32m━━━━━━━━━━━━━━━━━━━━\u001b[0m\u001b[37m\u001b[0m \u001b[1m12s\u001b[0m 12ms/step - accuracy: 0.7788 - loss: 0.4645 - val_accuracy: 0.7386 - val_loss: 0.5267\n",
      "Epoch 10/100\n",
      "\u001b[1m1000/1000\u001b[0m \u001b[32m━━━━━━━━━━━━━━━━━━━━\u001b[0m\u001b[37m\u001b[0m \u001b[1m12s\u001b[0m 12ms/step - accuracy: 0.7786 - loss: 0.4642 - val_accuracy: 0.7389 - val_loss: 0.5295\n",
      "Epoch 11/100\n",
      "\u001b[1m1000/1000\u001b[0m \u001b[32m━━━━━━━━━━━━━━━━━━━━\u001b[0m\u001b[37m\u001b[0m \u001b[1m12s\u001b[0m 12ms/step - accuracy: 0.7783 - loss: 0.4624 - val_accuracy: 0.7377 - val_loss: 0.5294\n",
      "Epoch 12/100\n",
      "\u001b[1m1000/1000\u001b[0m \u001b[32m━━━━━━━━━━━━━━━━━━━━\u001b[0m\u001b[37m\u001b[0m \u001b[1m12s\u001b[0m 12ms/step - accuracy: 0.7759 - loss: 0.4638 - val_accuracy: 0.7378 - val_loss: 0.5275\n",
      "Epoch 13/100\n",
      "\u001b[1m1000/1000\u001b[0m \u001b[32m━━━━━━━━━━━━━━━━━━━━\u001b[0m\u001b[37m\u001b[0m \u001b[1m12s\u001b[0m 12ms/step - accuracy: 0.7774 - loss: 0.4604 - val_accuracy: 0.7380 - val_loss: 0.5269\n",
      "Epoch 14/100\n",
      "\u001b[1m1000/1000\u001b[0m \u001b[32m━━━━━━━━━━━━━━━━━━━━\u001b[0m\u001b[37m\u001b[0m \u001b[1m12s\u001b[0m 12ms/step - accuracy: 0.7786 - loss: 0.4605 - val_accuracy: 0.7379 - val_loss: 0.5270\n",
      "Epoch 15/100\n",
      "\u001b[1m1000/1000\u001b[0m \u001b[32m━━━━━━━━━━━━━━━━━━━━\u001b[0m\u001b[37m\u001b[0m \u001b[1m12s\u001b[0m 12ms/step - accuracy: 0.7788 - loss: 0.4611 - val_accuracy: 0.7384 - val_loss: 0.5291\n",
      "Epoch 16/100\n",
      "\u001b[1m1000/1000\u001b[0m \u001b[32m━━━━━━━━━━━━━━━━━━━━\u001b[0m\u001b[37m\u001b[0m \u001b[1m12s\u001b[0m 12ms/step - accuracy: 0.7789 - loss: 0.4604 - val_accuracy: 0.7382 - val_loss: 0.5251\n"
     ]
    }
   ],
   "source": [
    "# Training\n",
    "hist = model.fit(x_train, y_train, batch_size=batch_size, epochs=epochs, validation_split=0.2, callbacks=callbacklist)"
   ]
  },
  {
   "cell_type": "code",
   "execution_count": 26,
   "id": "4d2e5ee6",
   "metadata": {
    "execution": {
     "iopub.execute_input": "2024-12-08T00:20:12.165416Z",
     "iopub.status.busy": "2024-12-08T00:20:12.164429Z",
     "iopub.status.idle": "2024-12-08T00:20:12.172244Z",
     "shell.execute_reply": "2024-12-08T00:20:12.171096Z"
    },
    "papermill": {
     "duration": 0.163766,
     "end_time": "2024-12-08T00:20:12.174563",
     "exception": false,
     "start_time": "2024-12-08T00:20:12.010797",
     "status": "completed"
    },
    "tags": []
   },
   "outputs": [],
   "source": [
    "sns.set()\n",
    "acc=hist.history['accuracy']\n",
    "val_acc=hist.history['val_accuracy']\n",
    "loss=hist.history['loss']\n",
    "val_loss=hist.history['val_loss']\n",
    "epochss=range(1,len(loss)+1)"
   ]
  },
  {
   "cell_type": "code",
   "execution_count": 27,
   "id": "0e3e1b60",
   "metadata": {
    "execution": {
     "iopub.execute_input": "2024-12-08T00:20:12.497281Z",
     "iopub.status.busy": "2024-12-08T00:20:12.496360Z",
     "iopub.status.idle": "2024-12-08T00:20:12.826344Z",
     "shell.execute_reply": "2024-12-08T00:20:12.825555Z"
    },
    "papermill": {
     "duration": 0.481865,
     "end_time": "2024-12-08T00:20:12.828060",
     "exception": false,
     "start_time": "2024-12-08T00:20:12.346195",
     "status": "completed"
    },
    "tags": []
   },
   "outputs": [
    {
     "data": {
      "image/png": "[encoded data removed]",
      "text/plain": [
       "<Figure size 640x480 with 1 Axes>"
      ]
     },
     "metadata": {},
     "output_type": "display_data"
    }
   ],
   "source": [
    "plt.plot(epochss,acc,color='green',label='train_accuracy')\n",
    "plt.plot(epochss,val_acc,color='blue',label='valid_accuracy')\n",
    "plt.title('train & valid accuracy')\n",
    "plt.xlabel('Epoch')\n",
    "plt.ylabel('Accuracy')\n",
    "plt.legend()\n",
    "plt.ylim(0,1.02)\n",
    "plt.show()"
   ]
  },
  {
   "cell_type": "code",
   "execution_count": 28,
   "id": "e0f20690",
   "metadata": {
    "execution": {
     "iopub.execute_input": "2024-12-08T00:20:13.130159Z",
     "iopub.status.busy": "2024-12-08T00:20:13.129825Z",
     "iopub.status.idle": "2024-12-08T00:20:13.364837Z",
     "shell.execute_reply": "2024-12-08T00:20:13.363999Z"
    },
    "papermill": {
     "duration": 0.386351,
     "end_time": "2024-12-08T00:20:13.366520",
     "exception": false,
     "start_time": "2024-12-08T00:20:12.980169",
     "status": "completed"
    },
    "tags": []
   },
   "outputs": [
    {
     "data": {
      "image/png": "[encoded data removed]",
      "text/plain": [
       "<Figure size 640x480 with 1 Axes>"
      ]
     },
     "metadata": {},
     "output_type": "display_data"
    }
   ],
   "source": [
    "plt.figure()\n",
    "plt.plot(epochss,loss,color='green',label='train_loss')\n",
    "plt.plot(epochss,val_loss,color='blue',label='valid_loss')\n",
    "plt.title('train & valid loss')\n",
    "plt.xlabel('Epoch')\n",
    "plt.ylabel('Loss')\n",
    "plt.legend()\n",
    "plt.ylim(0,1.02)\n",
    "plt.show()"
   ]
  },
  {
   "cell_type": "code",
   "execution_count": 29,
   "id": "45f32cab",
   "metadata": {
    "execution": {
     "iopub.execute_input": "2024-12-08T00:20:13.709054Z",
     "iopub.status.busy": "2024-12-08T00:20:13.708712Z",
     "iopub.status.idle": "2024-12-08T00:20:27.901728Z",
     "shell.execute_reply": "2024-12-08T00:20:27.900657Z"
    },
    "papermill": {
     "duration": 14.347062,
     "end_time": "2024-12-08T00:20:27.903441",
     "exception": false,
     "start_time": "2024-12-08T00:20:13.556379",
     "status": "completed"
    },
    "tags": []
   },
   "outputs": [
    {
     "name": "stdout",
     "output_type": "stream",
     "text": [
      "\u001b[1m10000/10000\u001b[0m \u001b[32m━━━━━━━━━━━━━━━━━━━━\u001b[0m\u001b[37m\u001b[0m \u001b[1m14s\u001b[0m 1ms/step - accuracy: 0.7487 - loss: 0.5805\n"
     ]
    },
    {
     "data": {
      "text/plain": [
       "[0.5879102945327759, 0.7431026697158813]"
      ]
     },
     "execution_count": 29,
     "metadata": {},
     "output_type": "execute_result"
    }
   ],
   "source": [
    "model.evaluate(x_train,y_train)"
   ]
  },
  {
   "cell_type": "code",
   "execution_count": 30,
   "id": "66da1531",
   "metadata": {
    "execution": {
     "iopub.execute_input": "2024-12-08T00:20:28.232008Z",
     "iopub.status.busy": "2024-12-08T00:20:28.231253Z",
     "iopub.status.idle": "2024-12-08T00:20:32.108239Z",
     "shell.execute_reply": "2024-12-08T00:20:32.107241Z"
    },
    "papermill": {
     "duration": 4.042442,
     "end_time": "2024-12-08T00:20:32.110538",
     "exception": false,
     "start_time": "2024-12-08T00:20:28.068096",
     "status": "completed"
    },
    "tags": []
   },
   "outputs": [
    {
     "name": "stdout",
     "output_type": "stream",
     "text": [
      "\u001b[1m2500/2500\u001b[0m \u001b[32m━━━━━━━━━━━━━━━━━━━━\u001b[0m\u001b[37m\u001b[0m \u001b[1m4s\u001b[0m 2ms/step - accuracy: 0.7217 - loss: 0.6191\n"
     ]
    },
    {
     "data": {
      "text/plain": [
       "[0.6189289689064026, 0.7216985821723938]"
      ]
     },
     "execution_count": 30,
     "metadata": {},
     "output_type": "execute_result"
    }
   ],
   "source": [
    "model.evaluate(x_test,y_test)"
   ]
  },
  {
   "cell_type": "code",
   "execution_count": 31,
   "id": "d6ca1e1b",
   "metadata": {
    "execution": {
     "iopub.execute_input": "2024-12-08T00:20:32.474263Z",
     "iopub.status.busy": "2024-12-08T00:20:32.473908Z",
     "iopub.status.idle": "2024-12-08T00:20:39.029914Z",
     "shell.execute_reply": "2024-12-08T00:20:39.029173Z"
    },
    "papermill": {
     "duration": 6.723482,
     "end_time": "2024-12-08T00:20:39.031916",
     "exception": false,
     "start_time": "2024-12-08T00:20:32.308434",
     "status": "completed"
    },
    "tags": []
   },
   "outputs": [
    {
     "name": "stdout",
     "output_type": "stream",
     "text": [
      "\u001b[1m2500/2500\u001b[0m \u001b[32m━━━━━━━━━━━━━━━━━━━━\u001b[0m\u001b[37m\u001b[0m \u001b[1m5s\u001b[0m 2ms/step\n"
     ]
    }
   ],
   "source": [
    "y_pred = model.predict(x_test)"
   ]
  },
  {
   "cell_type": "code",
   "execution_count": 32,
   "id": "46ed9d8d",
   "metadata": {
    "execution": {
     "iopub.execute_input": "2024-12-08T00:20:39.410327Z",
     "iopub.status.busy": "2024-12-08T00:20:39.409975Z",
     "iopub.status.idle": "2024-12-08T00:20:39.414341Z",
     "shell.execute_reply": "2024-12-08T00:20:39.413674Z"
    },
    "papermill": {
     "duration": 0.212939,
     "end_time": "2024-12-08T00:20:39.415915",
     "exception": false,
     "start_time": "2024-12-08T00:20:39.202976",
     "status": "completed"
    },
    "tags": []
   },
   "outputs": [],
   "source": [
    "y_pred = (y_pred > 0.5).astype(int)"
   ]
  },
  {
   "cell_type": "code",
   "execution_count": 33,
   "id": "9f0a9f4c",
   "metadata": {
    "execution": {
     "iopub.execute_input": "2024-12-08T00:20:39.750438Z",
     "iopub.status.busy": "2024-12-08T00:20:39.749235Z",
     "iopub.status.idle": "2024-12-08T00:20:40.015464Z",
     "shell.execute_reply": "2024-12-08T00:20:40.014573Z"
    },
    "papermill": {
     "duration": 0.433782,
     "end_time": "2024-12-08T00:20:40.017153",
     "exception": false,
     "start_time": "2024-12-08T00:20:39.583371",
     "status": "completed"
    },
    "tags": []
   },
   "outputs": [
    {
     "name": "stdout",
     "output_type": "stream",
     "text": [
      "              precision    recall  f1-score   support\n",
      "\n",
      "           0       0.68      0.83      0.75     40010\n",
      "           1       0.78      0.62      0.69     39986\n",
      "\n",
      "    accuracy                           0.72     79996\n",
      "   macro avg       0.73      0.72      0.72     79996\n",
      "weighted avg       0.73      0.72      0.72     79996\n",
      "\n"
     ]
    },
    {
     "data": {
      "text/plain": [
       "<Axes: >"
      ]
     },
     "execution_count": 33,
     "metadata": {},
     "output_type": "execute_result"
    },
    {
     "data": {
      "image/png": "[encoded data removed]",
      "text/plain": [
       "<Figure size 640x480 with 2 Axes>"
      ]
     },
     "metadata": {},
     "output_type": "display_data"
    }
   ],
   "source": [
    "print(classification_report(y_test,y_pred))\n",
    "sns.heatmap(confusion_matrix(y_test,y_pred),annot=True,fmt='d',cmap='Blues')"
   ]
  },
  {
   "cell_type": "code",
   "execution_count": 34,
   "id": "687a7b26",
   "metadata": {
    "execution": {
     "iopub.execute_input": "2024-12-08T00:20:40.358355Z",
     "iopub.status.busy": "2024-12-08T00:20:40.357755Z",
     "iopub.status.idle": "2024-12-08T00:20:40.419305Z",
     "shell.execute_reply": "2024-12-08T00:20:40.418470Z"
    },
    "papermill": {
     "duration": 0.234285,
     "end_time": "2024-12-08T00:20:40.420880",
     "exception": false,
     "start_time": "2024-12-08T00:20:40.186595",
     "status": "completed"
    },
    "tags": []
   },
   "outputs": [
    {
     "name": "stderr",
     "output_type": "stream",
     "text": [
      "/opt/conda/lib/python3.10/site-packages/keras/src/layers/core/embedding.py:90: UserWarning: Argument `input_length` is deprecated. Just remove it.\n",
      "  warnings.warn(\n"
     ]
    },
    {
     "data": {
      "text/html": [
       "<pre style=\"white-space:pre;overflow-x:auto;line-height:normal;font-family:Menlo,'DejaVu Sans Mono',consolas,'Courier New',monospace\"><span style=\"font-weight: bold\">Model: \"sequential_1\"</span>\n",
       "</pre>\n"
      ],
      "text/plain": [
       "\u001b[1mModel: \"sequential_1\"\u001b[0m\n"
      ]
     },
     "metadata": {},
     "output_type": "display_data"
    },
    {
     "data": {
      "text/html": [
       "<pre style=\"white-space:pre;overflow-x:auto;line-height:normal;font-family:Menlo,'DejaVu Sans Mono',consolas,'Courier New',monospace\">┏━━━━━━━━━━━━━━━━━━━━━━━━━━━━━━━━━┳━━━━━━━━━━━━━━━━━━━━━━━━┳━━━━━━━━━━━━━━━┓\n",
       "┃<span style=\"font-weight: bold\"> Layer (type)                    </span>┃<span style=\"font-weight: bold\"> Output Shape           </span>┃<span style=\"font-weight: bold\">       Param # </span>┃\n",
       "┡━━━━━━━━━━━━━━━━━━━━━━━━━━━━━━━━━╇━━━━━━━━━━━━━━━━━━━━━━━━╇━━━━━━━━━━━━━━━┩\n",
       "│ embedding_1 (<span style=\"color: #0087ff; text-decoration-color: #0087ff\">Embedding</span>)         │ ?                      │   <span style=\"color: #00af00; text-decoration-color: #00af00\">0</span> (unbuilt) │\n",
       "├─────────────────────────────────┼────────────────────────┼───────────────┤\n",
       "│ lstm (<span style=\"color: #0087ff; text-decoration-color: #0087ff\">LSTM</span>)                     │ ?                      │   <span style=\"color: #00af00; text-decoration-color: #00af00\">0</span> (unbuilt) │\n",
       "├─────────────────────────────────┼────────────────────────┼───────────────┤\n",
       "│ dropout_7 (<span style=\"color: #0087ff; text-decoration-color: #0087ff\">Dropout</span>)             │ ?                      │   <span style=\"color: #00af00; text-decoration-color: #00af00\">0</span> (unbuilt) │\n",
       "├─────────────────────────────────┼────────────────────────┼───────────────┤\n",
       "│ lstm_1 (<span style=\"color: #0087ff; text-decoration-color: #0087ff\">LSTM</span>)                   │ ?                      │   <span style=\"color: #00af00; text-decoration-color: #00af00\">0</span> (unbuilt) │\n",
       "├─────────────────────────────────┼────────────────────────┼───────────────┤\n",
       "│ dropout_8 (<span style=\"color: #0087ff; text-decoration-color: #0087ff\">Dropout</span>)             │ ?                      │   <span style=\"color: #00af00; text-decoration-color: #00af00\">0</span> (unbuilt) │\n",
       "├─────────────────────────────────┼────────────────────────┼───────────────┤\n",
       "│ lstm_2 (<span style=\"color: #0087ff; text-decoration-color: #0087ff\">LSTM</span>)                   │ ?                      │   <span style=\"color: #00af00; text-decoration-color: #00af00\">0</span> (unbuilt) │\n",
       "├─────────────────────────────────┼────────────────────────┼───────────────┤\n",
       "│ dropout_9 (<span style=\"color: #0087ff; text-decoration-color: #0087ff\">Dropout</span>)             │ ?                      │   <span style=\"color: #00af00; text-decoration-color: #00af00\">0</span> (unbuilt) │\n",
       "├─────────────────────────────────┼────────────────────────┼───────────────┤\n",
       "│ lstm_3 (<span style=\"color: #0087ff; text-decoration-color: #0087ff\">LSTM</span>)                   │ ?                      │   <span style=\"color: #00af00; text-decoration-color: #00af00\">0</span> (unbuilt) │\n",
       "├─────────────────────────────────┼────────────────────────┼───────────────┤\n",
       "│ dropout_10 (<span style=\"color: #0087ff; text-decoration-color: #0087ff\">Dropout</span>)            │ ?                      │   <span style=\"color: #00af00; text-decoration-color: #00af00\">0</span> (unbuilt) │\n",
       "├─────────────────────────────────┼────────────────────────┼───────────────┤\n",
       "│ lstm_4 (<span style=\"color: #0087ff; text-decoration-color: #0087ff\">LSTM</span>)                   │ ?                      │   <span style=\"color: #00af00; text-decoration-color: #00af00\">0</span> (unbuilt) │\n",
       "├─────────────────────────────────┼────────────────────────┼───────────────┤\n",
       "│ dropout_11 (<span style=\"color: #0087ff; text-decoration-color: #0087ff\">Dropout</span>)            │ ?                      │   <span style=\"color: #00af00; text-decoration-color: #00af00\">0</span> (unbuilt) │\n",
       "├─────────────────────────────────┼────────────────────────┼───────────────┤\n",
       "│ dense_3 (<span style=\"color: #0087ff; text-decoration-color: #0087ff\">Dense</span>)                 │ ?                      │   <span style=\"color: #00af00; text-decoration-color: #00af00\">0</span> (unbuilt) │\n",
       "├─────────────────────────────────┼────────────────────────┼───────────────┤\n",
       "│ batch_normalization_2           │ ?                      │   <span style=\"color: #00af00; text-decoration-color: #00af00\">0</span> (unbuilt) │\n",
       "│ (<span style=\"color: #0087ff; text-decoration-color: #0087ff\">BatchNormalization</span>)            │                        │               │\n",
       "├─────────────────────────────────┼────────────────────────┼───────────────┤\n",
       "│ dropout_12 (<span style=\"color: #0087ff; text-decoration-color: #0087ff\">Dropout</span>)            │ ?                      │   <span style=\"color: #00af00; text-decoration-color: #00af00\">0</span> (unbuilt) │\n",
       "├─────────────────────────────────┼────────────────────────┼───────────────┤\n",
       "│ dense_4 (<span style=\"color: #0087ff; text-decoration-color: #0087ff\">Dense</span>)                 │ ?                      │   <span style=\"color: #00af00; text-decoration-color: #00af00\">0</span> (unbuilt) │\n",
       "├─────────────────────────────────┼────────────────────────┼───────────────┤\n",
       "│ batch_normalization_3           │ ?                      │   <span style=\"color: #00af00; text-decoration-color: #00af00\">0</span> (unbuilt) │\n",
       "│ (<span style=\"color: #0087ff; text-decoration-color: #0087ff\">BatchNormalization</span>)            │                        │               │\n",
       "├─────────────────────────────────┼────────────────────────┼───────────────┤\n",
       "│ dropout_13 (<span style=\"color: #0087ff; text-decoration-color: #0087ff\">Dropout</span>)            │ ?                      │   <span style=\"color: #00af00; text-decoration-color: #00af00\">0</span> (unbuilt) │\n",
       "├─────────────────────────────────┼────────────────────────┼───────────────┤\n",
       "│ dense_5 (<span style=\"color: #0087ff; text-decoration-color: #0087ff\">Dense</span>)                 │ ?                      │   <span style=\"color: #00af00; text-decoration-color: #00af00\">0</span> (unbuilt) │\n",
       "└─────────────────────────────────┴────────────────────────┴───────────────┘\n",
       "</pre>\n"
      ],
      "text/plain": [
       "┏━━━━━━━━━━━━━━━━━━━━━━━━━━━━━━━━━┳━━━━━━━━━━━━━━━━━━━━━━━━┳━━━━━━━━━━━━━━━┓\n",
       "┃\u001b[1m \u001b[0m\u001b[1mLayer (type)                   \u001b[0m\u001b[1m \u001b[0m┃\u001b[1m \u001b[0m\u001b[1mOutput Shape          \u001b[0m\u001b[1m \u001b[0m┃\u001b[1m \u001b[0m\u001b[1m      Param #\u001b[0m\u001b[1m \u001b[0m┃\n",
       "┡━━━━━━━━━━━━━━━━━━━━━━━━━━━━━━━━━╇━━━━━━━━━━━━━━━━━━━━━━━━╇━━━━━━━━━━━━━━━┩\n",
       "│ embedding_1 (\u001b[38;5;33mEmbedding\u001b[0m)         │ ?                      │   \u001b[38;5;34m0\u001b[0m (unbuilt) │\n",
       "├─────────────────────────────────┼────────────────────────┼───────────────┤\n",
       "│ lstm (\u001b[38;5;33mLSTM\u001b[0m)                     │ ?                      │   \u001b[38;5;34m0\u001b[0m (unbuilt) │\n",
       "├─────────────────────────────────┼────────────────────────┼───────────────┤\n",
       "│ dropout_7 (\u001b[38;5;33mDropout\u001b[0m)             │ ?                      │   \u001b[38;5;34m0\u001b[0m (unbuilt) │\n",
       "├─────────────────────────────────┼────────────────────────┼───────────────┤\n",
       "│ lstm_1 (\u001b[38;5;33mLSTM\u001b[0m)                   │ ?                      │   \u001b[38;5;34m0\u001b[0m (unbuilt) │\n",
       "├─────────────────────────────────┼────────────────────────┼───────────────┤\n",
       "│ dropout_8 (\u001b[38;5;33mDropout\u001b[0m)             │ ?                      │   \u001b[38;5;34m0\u001b[0m (unbuilt) │\n",
       "├─────────────────────────────────┼────────────────────────┼───────────────┤\n",
       "│ lstm_2 (\u001b[38;5;33mLSTM\u001b[0m)                   │ ?                      │   \u001b[38;5;34m0\u001b[0m (unbuilt) │\n",
       "├─────────────────────────────────┼────────────────────────┼───────────────┤\n",
       "│ dropout_9 (\u001b[38;5;33mDropout\u001b[0m)             │ ?                      │   \u001b[38;5;34m0\u001b[0m (unbuilt) │\n",
       "├─────────────────────────────────┼────────────────────────┼───────────────┤\n",
       "│ lstm_3 (\u001b[38;5;33mLSTM\u001b[0m)                   │ ?                      │   \u001b[38;5;34m0\u001b[0m (unbuilt) │\n",
       "├─────────────────────────────────┼────────────────────────┼───────────────┤\n",
       "│ dropout_10 (\u001b[38;5;33mDropout\u001b[0m)            │ ?                      │   \u001b[38;5;34m0\u001b[0m (unbuilt) │\n",
       "├─────────────────────────────────┼────────────────────────┼───────────────┤\n",
       "│ lstm_4 (\u001b[38;5;33mLSTM\u001b[0m)                   │ ?                      │   \u001b[38;5;34m0\u001b[0m (unbuilt) │\n",
       "├─────────────────────────────────┼────────────────────────┼───────────────┤\n",
       "│ dropout_11 (\u001b[38;5;33mDropout\u001b[0m)            │ ?                      │   \u001b[38;5;34m0\u001b[0m (unbuilt) │\n",
       "├─────────────────────────────────┼────────────────────────┼───────────────┤\n",
       "│ dense_3 (\u001b[38;5;33mDense\u001b[0m)                 │ ?                      │   \u001b[38;5;34m0\u001b[0m (unbuilt) │\n",
       "├─────────────────────────────────┼────────────────────────┼───────────────┤\n",
       "│ batch_normalization_2           │ ?                      │   \u001b[38;5;34m0\u001b[0m (unbuilt) │\n",
       "│ (\u001b[38;5;33mBatchNormalization\u001b[0m)            │                        │               │\n",
       "├─────────────────────────────────┼────────────────────────┼───────────────┤\n",
       "│ dropout_12 (\u001b[38;5;33mDropout\u001b[0m)            │ ?                      │   \u001b[38;5;34m0\u001b[0m (unbuilt) │\n",
       "├─────────────────────────────────┼────────────────────────┼───────────────┤\n",
       "│ dense_4 (\u001b[38;5;33mDense\u001b[0m)                 │ ?                      │   \u001b[38;5;34m0\u001b[0m (unbuilt) │\n",
       "├─────────────────────────────────┼────────────────────────┼───────────────┤\n",
       "│ batch_normalization_3           │ ?                      │   \u001b[38;5;34m0\u001b[0m (unbuilt) │\n",
       "│ (\u001b[38;5;33mBatchNormalization\u001b[0m)            │                        │               │\n",
       "├─────────────────────────────────┼────────────────────────┼───────────────┤\n",
       "│ dropout_13 (\u001b[38;5;33mDropout\u001b[0m)            │ ?                      │   \u001b[38;5;34m0\u001b[0m (unbuilt) │\n",
       "├─────────────────────────────────┼────────────────────────┼───────────────┤\n",
       "│ dense_5 (\u001b[38;5;33mDense\u001b[0m)                 │ ?                      │   \u001b[38;5;34m0\u001b[0m (unbuilt) │\n",
       "└─────────────────────────────────┴────────────────────────┴───────────────┘\n"
      ]
     },
     "metadata": {},
     "output_type": "display_data"
    },
    {
     "data": {
      "text/html": [
       "<pre style=\"white-space:pre;overflow-x:auto;line-height:normal;font-family:Menlo,'DejaVu Sans Mono',consolas,'Courier New',monospace\"><span style=\"font-weight: bold\"> Total params: </span><span style=\"color: #00af00; text-decoration-color: #00af00\">0</span> (0.00 B)\n",
       "</pre>\n"
      ],
      "text/plain": [
       "\u001b[1m Total params: \u001b[0m\u001b[38;5;34m0\u001b[0m (0.00 B)\n"
      ]
     },
     "metadata": {},
     "output_type": "display_data"
    },
    {
     "data": {
      "text/html": [
       "<pre style=\"white-space:pre;overflow-x:auto;line-height:normal;font-family:Menlo,'DejaVu Sans Mono',consolas,'Courier New',monospace\"><span style=\"font-weight: bold\"> Trainable params: </span><span style=\"color: #00af00; text-decoration-color: #00af00\">0</span> (0.00 B)\n",
       "</pre>\n"
      ],
      "text/plain": [
       "\u001b[1m Trainable params: \u001b[0m\u001b[38;5;34m0\u001b[0m (0.00 B)\n"
      ]
     },
     "metadata": {},
     "output_type": "display_data"
    },
    {
     "data": {
      "text/html": [
       "<pre style=\"white-space:pre;overflow-x:auto;line-height:normal;font-family:Menlo,'DejaVu Sans Mono',consolas,'Courier New',monospace\"><span style=\"font-weight: bold\"> Non-trainable params: </span><span style=\"color: #00af00; text-decoration-color: #00af00\">0</span> (0.00 B)\n",
       "</pre>\n"
      ],
      "text/plain": [
       "\u001b[1m Non-trainable params: \u001b[0m\u001b[38;5;34m0\u001b[0m (0.00 B)\n"
      ]
     },
     "metadata": {},
     "output_type": "display_data"
    }
   ],
   "source": [
    "# LSTM Model\n",
    "\n",
    "embedding_dim = 1000\n",
    "\n",
    "model = Sequential()\n",
    "model.add(Embedding(voc_size+1, embedding_dim, mask_zero=True, input_length=sent_length))\n",
    "\n",
    "model.add(LSTM(100, return_sequences=True, recurrent_dropout=0.2, dropout=0.2))\n",
    "model.add(Dropout(0.5))\n",
    "\n",
    "model.add(LSTM(100, return_sequences=True, recurrent_dropout=0.2, dropout=0.2))\n",
    "model.add(Dropout(0.5))\n",
    "\n",
    "model.add(LSTM(100, return_sequences=True, recurrent_dropout=0.2, dropout=0.2))\n",
    "model.add(Dropout(0.5))\n",
    "\n",
    "model.add(LSTM(100, return_sequences=True, recurrent_dropout=0.2, dropout=0.2))\n",
    "model.add(Dropout(0.5))\n",
    "\n",
    "model.add(LSTM(100, return_sequences=False, recurrent_dropout=0.2, dropout=0.2))\n",
    "model.add(Dropout(0.5))\n",
    "\n",
    "model.add(Dense(128, activation='relu'))\n",
    "model.add(BatchNormalization())\n",
    "model.add(Dropout(0.5))\n",
    "\n",
    "model.add(Dense(64, activation='relu'))\n",
    "model.add(BatchNormalization())\n",
    "model.add(Dropout(0.5))\n",
    "\n",
    "model.add(Dense(1, activation='sigmoid'))\n",
    "\n",
    "model.compile(loss='binary_crossentropy', optimizer='adam', metrics=['accuracy'])\n",
    "\n",
    "model.summary()"
   ]
  },
  {
   "cell_type": "code",
   "execution_count": 35,
   "id": "a67a9d83",
   "metadata": {
    "execution": {
     "iopub.execute_input": "2024-12-08T00:20:40.758441Z",
     "iopub.status.busy": "2024-12-08T00:20:40.758069Z",
     "iopub.status.idle": "2024-12-08T00:33:07.093453Z",
     "shell.execute_reply": "2024-12-08T00:33:07.092648Z"
    },
    "papermill": {
     "duration": 746.506109,
     "end_time": "2024-12-08T00:33:07.095404",
     "exception": false,
     "start_time": "2024-12-08T00:20:40.589295",
     "status": "completed"
    },
    "tags": []
   },
   "outputs": [
    {
     "name": "stdout",
     "output_type": "stream",
     "text": [
      "Epoch 1/100\n"
     ]
    },
    {
     "name": "stderr",
     "output_type": "stream",
     "text": [
      "/opt/conda/lib/python3.10/site-packages/tensorflow/python/framework/indexed_slices.py:446: UserWarning: Converting sparse IndexedSlices to a dense Tensor with 100001000 elements. This may consume a large amount of memory.\n",
      "  warnings.warn(\n"
     ]
    },
    {
     "name": "stdout",
     "output_type": "stream",
     "text": [
      "\u001b[1m1000/1000\u001b[0m \u001b[32m━━━━━━━━━━━━━━━━━━━━\u001b[0m\u001b[37m\u001b[0m \u001b[1m69s\u001b[0m 50ms/step - accuracy: 0.6127 - loss: 0.6259 - val_accuracy: 0.7415 - val_loss: 0.4946\n",
      "Epoch 2/100\n",
      "\u001b[1m1000/1000\u001b[0m \u001b[32m━━━━━━━━━━━━━━━━━━━━\u001b[0m\u001b[37m\u001b[0m \u001b[1m49s\u001b[0m 49ms/step - accuracy: 0.7700 - loss: 0.4806 - val_accuracy: 0.7436 - val_loss: 0.4993\n",
      "Epoch 3/100\n",
      "\u001b[1m1000/1000\u001b[0m \u001b[32m━━━━━━━━━━━━━━━━━━━━\u001b[0m\u001b[37m\u001b[0m \u001b[1m49s\u001b[0m 49ms/step - accuracy: 0.7773 - loss: 0.4583 - val_accuracy: 0.7455 - val_loss: 0.5052\n",
      "Epoch 4/100\n",
      "\u001b[1m1000/1000\u001b[0m \u001b[32m━━━━━━━━━━━━━━━━━━━━\u001b[0m\u001b[37m\u001b[0m \u001b[1m49s\u001b[0m 49ms/step - accuracy: 0.7796 - loss: 0.4500 - val_accuracy: 0.7435 - val_loss: 0.5163\n",
      "Epoch 5/100\n",
      "\u001b[1m1000/1000\u001b[0m \u001b[32m━━━━━━━━━━━━━━━━━━━━\u001b[0m\u001b[37m\u001b[0m \u001b[1m48s\u001b[0m 48ms/step - accuracy: 0.7790 - loss: 0.4459 - val_accuracy: 0.7441 - val_loss: 0.5288\n",
      "Epoch 6/100\n",
      "\u001b[1m1000/1000\u001b[0m \u001b[32m━━━━━━━━━━━━━━━━━━━━\u001b[0m\u001b[37m\u001b[0m \u001b[1m48s\u001b[0m 48ms/step - accuracy: 0.7799 - loss: 0.4424 - val_accuracy: 0.7450 - val_loss: 0.5433\n",
      "Epoch 7/100\n",
      "\u001b[1m1000/1000\u001b[0m \u001b[32m━━━━━━━━━━━━━━━━━━━━\u001b[0m\u001b[37m\u001b[0m \u001b[1m48s\u001b[0m 48ms/step - accuracy: 0.7809 - loss: 0.4403 - val_accuracy: 0.7440 - val_loss: 0.5424\n",
      "Epoch 8/100\n",
      "\u001b[1m1000/1000\u001b[0m \u001b[32m━━━━━━━━━━━━━━━━━━━━\u001b[0m\u001b[37m\u001b[0m \u001b[1m48s\u001b[0m 48ms/step - accuracy: 0.7822 - loss: 0.4385 - val_accuracy: 0.7409 - val_loss: 0.5462\n",
      "Epoch 9/100\n",
      "\u001b[1m1000/1000\u001b[0m \u001b[32m━━━━━━━━━━━━━━━━━━━━\u001b[0m\u001b[37m\u001b[0m \u001b[1m48s\u001b[0m 48ms/step - accuracy: 0.7830 - loss: 0.4382 - val_accuracy: 0.7444 - val_loss: 0.5396\n",
      "Epoch 10/100\n",
      "\u001b[1m1000/1000\u001b[0m \u001b[32m━━━━━━━━━━━━━━━━━━━━\u001b[0m\u001b[37m\u001b[0m \u001b[1m49s\u001b[0m 49ms/step - accuracy: 0.7825 - loss: 0.4371 - val_accuracy: 0.7447 - val_loss: 0.5523\n",
      "Epoch 11/100\n",
      "\u001b[1m1000/1000\u001b[0m \u001b[32m━━━━━━━━━━━━━━━━━━━━\u001b[0m\u001b[37m\u001b[0m \u001b[1m48s\u001b[0m 48ms/step - accuracy: 0.7833 - loss: 0.4360 - val_accuracy: 0.7452 - val_loss: 0.5496\n",
      "Epoch 12/100\n",
      "\u001b[1m1000/1000\u001b[0m \u001b[32m━━━━━━━━━━━━━━━━━━━━\u001b[0m\u001b[37m\u001b[0m \u001b[1m49s\u001b[0m 49ms/step - accuracy: 0.7842 - loss: 0.4342 - val_accuracy: 0.7453 - val_loss: 0.5487\n",
      "Epoch 13/100\n",
      "\u001b[1m1000/1000\u001b[0m \u001b[32m━━━━━━━━━━━━━━━━━━━━\u001b[0m\u001b[37m\u001b[0m \u001b[1m48s\u001b[0m 48ms/step - accuracy: 0.7822 - loss: 0.4375 - val_accuracy: 0.7456 - val_loss: 0.5464\n",
      "Epoch 14/100\n",
      "\u001b[1m1000/1000\u001b[0m \u001b[32m━━━━━━━━━━━━━━━━━━━━\u001b[0m\u001b[37m\u001b[0m \u001b[1m48s\u001b[0m 48ms/step - accuracy: 0.7847 - loss: 0.4351 - val_accuracy: 0.7447 - val_loss: 0.5460\n",
      "Epoch 15/100\n",
      "\u001b[1m1000/1000\u001b[0m \u001b[32m━━━━━━━━━━━━━━━━━━━━\u001b[0m\u001b[37m\u001b[0m \u001b[1m48s\u001b[0m 48ms/step - accuracy: 0.7833 - loss: 0.4377 - val_accuracy: 0.7447 - val_loss: 0.5572\n"
     ]
    }
   ],
   "source": [
    "# Training\n",
    "hist = model.fit(x_train, y_train, batch_size=batch_size, epochs=epochs, validation_split=0.2, callbacks=callbacklist)"
   ]
  },
  {
   "cell_type": "code",
   "execution_count": 36,
   "id": "96236b10",
   "metadata": {
    "execution": {
     "iopub.execute_input": "2024-12-08T00:33:08.243819Z",
     "iopub.status.busy": "2024-12-08T00:33:08.243486Z",
     "iopub.status.idle": "2024-12-08T00:33:08.248744Z",
     "shell.execute_reply": "2024-12-08T00:33:08.248006Z"
    },
    "papermill": {
     "duration": 0.598869,
     "end_time": "2024-12-08T00:33:08.250440",
     "exception": false,
     "start_time": "2024-12-08T00:33:07.651571",
     "status": "completed"
    },
    "tags": []
   },
   "outputs": [],
   "source": [
    "sns.set()\n",
    "acc=hist.history['accuracy']\n",
    "val_acc=hist.history['val_accuracy']\n",
    "loss=hist.history['loss']\n",
    "val_loss=hist.history['val_loss']\n",
    "epochss=range(1,len(loss)+1)"
   ]
  },
  {
   "cell_type": "code",
   "execution_count": 37,
   "id": "943997f3",
   "metadata": {
    "execution": {
     "iopub.execute_input": "2024-12-08T00:33:09.372106Z",
     "iopub.status.busy": "2024-12-08T00:33:09.371573Z",
     "iopub.status.idle": "2024-12-08T00:33:09.598236Z",
     "shell.execute_reply": "2024-12-08T00:33:09.597375Z"
    },
    "papermill": {
     "duration": 0.808808,
     "end_time": "2024-12-08T00:33:09.600023",
     "exception": false,
     "start_time": "2024-12-08T00:33:08.791215",
     "status": "completed"
    },
    "tags": []
   },
   "outputs": [
    {
     "data": {
      "image/png": "[encoded data removed]",
      "text/plain": [
       "<Figure size 640x480 with 1 Axes>"
      ]
     },
     "metadata": {},
     "output_type": "display_data"
    }
   ],
   "source": [
    "plt.plot(epochss,acc,color='green',label='train_accuracy')\n",
    "plt.plot(epochss,val_acc,color='blue',label='valid_accuracy')\n",
    "plt.title('train & valid accuracy')\n",
    "plt.xlabel('Epoch')\n",
    "plt.ylabel('Accuracy')\n",
    "plt.legend()\n",
    "plt.ylim(0,1.02)\n",
    "plt.show()"
   ]
  },
  {
   "cell_type": "code",
   "execution_count": 38,
   "id": "50fba726",
   "metadata": {
    "execution": {
     "iopub.execute_input": "2024-12-08T00:33:10.727364Z",
     "iopub.status.busy": "2024-12-08T00:33:10.726994Z",
     "iopub.status.idle": "2024-12-08T00:33:11.020597Z",
     "shell.execute_reply": "2024-12-08T00:33:11.019731Z"
    },
    "papermill": {
     "duration": 0.882441,
     "end_time": "2024-12-08T00:33:11.022236",
     "exception": false,
     "start_time": "2024-12-08T00:33:10.139795",
     "status": "completed"
    },
    "tags": []
   },
   "outputs": [
    {
     "data": {
      "image/png": "[encoded data removed]",
      "text/plain": [
       "<Figure size 640x480 with 1 Axes>"
      ]
     },
     "metadata": {},
     "output_type": "display_data"
    }
   ],
   "source": [
    "plt.figure()\n",
    "plt.plot(epochss,loss,color='green',label='train_loss')\n",
    "plt.plot(epochss,val_loss,color='blue',label='valid_loss')\n",
    "plt.title('train & valid loss')\n",
    "plt.xlabel('Epoch')\n",
    "plt.ylabel('Loss')\n",
    "plt.legend()\n",
    "plt.ylim(0,1.02)\n",
    "plt.show()"
   ]
  },
  {
   "cell_type": "code",
   "execution_count": 39,
   "id": "f1d885c8",
   "metadata": {
    "execution": {
     "iopub.execute_input": "2024-12-08T00:33:12.182544Z",
     "iopub.status.busy": "2024-12-08T00:33:12.182032Z",
     "iopub.status.idle": "2024-12-08T00:33:56.353984Z",
     "shell.execute_reply": "2024-12-08T00:33:56.353275Z"
    },
    "papermill": {
     "duration": 44.767928,
     "end_time": "2024-12-08T00:33:56.355636",
     "exception": false,
     "start_time": "2024-12-08T00:33:11.587708",
     "status": "completed"
    },
    "tags": []
   },
   "outputs": [
    {
     "name": "stdout",
     "output_type": "stream",
     "text": [
      "\u001b[1m10000/10000\u001b[0m \u001b[32m━━━━━━━━━━━━━━━━━━━━\u001b[0m\u001b[37m\u001b[0m \u001b[1m44s\u001b[0m 4ms/step - accuracy: 0.7799 - loss: 0.4601\n"
     ]
    },
    {
     "data": {
      "text/plain": [
       "[0.4674050807952881, 0.7722764015197754]"
      ]
     },
     "execution_count": 39,
     "metadata": {},
     "output_type": "execute_result"
    }
   ],
   "source": [
    "model.evaluate(x_train,y_train)"
   ]
  },
  {
   "cell_type": "code",
   "execution_count": 40,
   "id": "77989dc4",
   "metadata": {
    "execution": {
     "iopub.execute_input": "2024-12-08T00:33:57.579273Z",
     "iopub.status.busy": "2024-12-08T00:33:57.577923Z",
     "iopub.status.idle": "2024-12-08T00:34:08.508265Z",
     "shell.execute_reply": "2024-12-08T00:34:08.507538Z"
    },
    "papermill": {
     "duration": 11.516864,
     "end_time": "2024-12-08T00:34:08.509866",
     "exception": false,
     "start_time": "2024-12-08T00:33:56.993002",
     "status": "completed"
    },
    "tags": []
   },
   "outputs": [
    {
     "name": "stdout",
     "output_type": "stream",
     "text": [
      "\u001b[1m2500/2500\u001b[0m \u001b[32m━━━━━━━━━━━━━━━━━━━━\u001b[0m\u001b[37m\u001b[0m \u001b[1m11s\u001b[0m 4ms/step - accuracy: 0.7402 - loss: 0.4981\n"
     ]
    },
    {
     "data": {
      "text/plain": [
       "[0.4975833296775818, 0.7415370941162109]"
      ]
     },
     "execution_count": 40,
     "metadata": {},
     "output_type": "execute_result"
    }
   ],
   "source": [
    "model.evaluate(x_test,y_test)"
   ]
  },
  {
   "cell_type": "code",
   "execution_count": 41,
   "id": "77b4d3ec",
   "metadata": {
    "execution": {
     "iopub.execute_input": "2024-12-08T00:34:09.748922Z",
     "iopub.status.busy": "2024-12-08T00:34:09.748567Z",
     "iopub.status.idle": "2024-12-08T00:34:20.592088Z",
     "shell.execute_reply": "2024-12-08T00:34:20.591106Z"
    },
    "papermill": {
     "duration": 11.437975,
     "end_time": "2024-12-08T00:34:20.594217",
     "exception": false,
     "start_time": "2024-12-08T00:34:09.156242",
     "status": "completed"
    },
    "tags": []
   },
   "outputs": [
    {
     "name": "stdout",
     "output_type": "stream",
     "text": [
      "\u001b[1m2500/2500\u001b[0m \u001b[32m━━━━━━━━━━━━━━━━━━━━\u001b[0m\u001b[37m\u001b[0m \u001b[1m10s\u001b[0m 4ms/step\n"
     ]
    }
   ],
   "source": [
    "y_pred = model.predict(x_test)"
   ]
  },
  {
   "cell_type": "code",
   "execution_count": 42,
   "id": "8b4475f3",
   "metadata": {
    "execution": {
     "iopub.execute_input": "2024-12-08T00:34:21.893188Z",
     "iopub.status.busy": "2024-12-08T00:34:21.892740Z",
     "iopub.status.idle": "2024-12-08T00:34:21.897910Z",
     "shell.execute_reply": "2024-12-08T00:34:21.897159Z"
    },
    "papermill": {
     "duration": 0.612985,
     "end_time": "2024-12-08T00:34:21.899559",
     "exception": false,
     "start_time": "2024-12-08T00:34:21.286574",
     "status": "completed"
    },
    "tags": []
   },
   "outputs": [],
   "source": [
    "y_pred = (y_pred > 0.5).astype(int)"
   ]
  },
  {
   "cell_type": "code",
   "execution_count": 43,
   "id": "42fa9b36",
   "metadata": {
    "execution": {
     "iopub.execute_input": "2024-12-08T00:34:23.166111Z",
     "iopub.status.busy": "2024-12-08T00:34:23.165774Z",
     "iopub.status.idle": "2024-12-08T00:34:23.485693Z",
     "shell.execute_reply": "2024-12-08T00:34:23.484904Z"
    },
    "papermill": {
     "duration": 0.913884,
     "end_time": "2024-12-08T00:34:23.487219",
     "exception": false,
     "start_time": "2024-12-08T00:34:22.573335",
     "status": "completed"
    },
    "tags": []
   },
   "outputs": [
    {
     "name": "stdout",
     "output_type": "stream",
     "text": [
      "              precision    recall  f1-score   support\n",
      "\n",
      "           0       0.76      0.70      0.73     40010\n",
      "           1       0.72      0.78      0.75     39986\n",
      "\n",
      "    accuracy                           0.74     79996\n",
      "   macro avg       0.74      0.74      0.74     79996\n",
      "weighted avg       0.74      0.74      0.74     79996\n",
      "\n"
     ]
    },
    {
     "data": {
      "text/plain": [
       "<Axes: >"
      ]
     },
     "execution_count": 43,
     "metadata": {},
     "output_type": "execute_result"
    },
    {
     "data": {
      "image/png": "[encoded data removed]",
      "text/plain": [
       "<Figure size 640x480 with 2 Axes>"
      ]
     },
     "metadata": {},
     "output_type": "display_data"
    }
   ],
   "source": [
    "print(classification_report(y_test,y_pred))\n",
    "sns.heatmap(confusion_matrix(y_test,y_pred),annot=True,fmt='d',cmap='Blues')"
   ]
  },
  {
   "cell_type": "code",
   "execution_count": 44,
   "id": "175df90b",
   "metadata": {
    "execution": {
     "iopub.execute_input": "2024-12-08T00:34:24.727064Z",
     "iopub.status.busy": "2024-12-08T00:34:24.726718Z",
     "iopub.status.idle": "2024-12-08T00:34:24.790058Z",
     "shell.execute_reply": "2024-12-08T00:34:24.789398Z"
    },
    "papermill": {
     "duration": 0.663867,
     "end_time": "2024-12-08T00:34:24.791667",
     "exception": false,
     "start_time": "2024-12-08T00:34:24.127800",
     "status": "completed"
    },
    "tags": []
   },
   "outputs": [
    {
     "name": "stderr",
     "output_type": "stream",
     "text": [
      "/opt/conda/lib/python3.10/site-packages/keras/src/layers/core/embedding.py:90: UserWarning: Argument `input_length` is deprecated. Just remove it.\n",
      "  warnings.warn(\n"
     ]
    },
    {
     "data": {
      "text/html": [
       "<pre style=\"white-space:pre;overflow-x:auto;line-height:normal;font-family:Menlo,'DejaVu Sans Mono',consolas,'Courier New',monospace\"><span style=\"font-weight: bold\">Model: \"sequential_2\"</span>\n",
       "</pre>\n"
      ],
      "text/plain": [
       "\u001b[1mModel: \"sequential_2\"\u001b[0m\n"
      ]
     },
     "metadata": {},
     "output_type": "display_data"
    },
    {
     "data": {
      "text/html": [
       "<pre style=\"white-space:pre;overflow-x:auto;line-height:normal;font-family:Menlo,'DejaVu Sans Mono',consolas,'Courier New',monospace\">┏━━━━━━━━━━━━━━━━━━━━━━━━━━━━━━━━━┳━━━━━━━━━━━━━━━━━━━━━━━━┳━━━━━━━━━━━━━━━┓\n",
       "┃<span style=\"font-weight: bold\"> Layer (type)                    </span>┃<span style=\"font-weight: bold\"> Output Shape           </span>┃<span style=\"font-weight: bold\">       Param # </span>┃\n",
       "┡━━━━━━━━━━━━━━━━━━━━━━━━━━━━━━━━━╇━━━━━━━━━━━━━━━━━━━━━━━━╇━━━━━━━━━━━━━━━┩\n",
       "│ embedding_2 (<span style=\"color: #0087ff; text-decoration-color: #0087ff\">Embedding</span>)         │ ?                      │   <span style=\"color: #00af00; text-decoration-color: #00af00\">0</span> (unbuilt) │\n",
       "├─────────────────────────────────┼────────────────────────┼───────────────┤\n",
       "│ gru (<span style=\"color: #0087ff; text-decoration-color: #0087ff\">GRU</span>)                       │ ?                      │   <span style=\"color: #00af00; text-decoration-color: #00af00\">0</span> (unbuilt) │\n",
       "├─────────────────────────────────┼────────────────────────┼───────────────┤\n",
       "│ dropout_14 (<span style=\"color: #0087ff; text-decoration-color: #0087ff\">Dropout</span>)            │ ?                      │   <span style=\"color: #00af00; text-decoration-color: #00af00\">0</span> (unbuilt) │\n",
       "├─────────────────────────────────┼────────────────────────┼───────────────┤\n",
       "│ gru_1 (<span style=\"color: #0087ff; text-decoration-color: #0087ff\">GRU</span>)                     │ ?                      │   <span style=\"color: #00af00; text-decoration-color: #00af00\">0</span> (unbuilt) │\n",
       "├─────────────────────────────────┼────────────────────────┼───────────────┤\n",
       "│ dropout_15 (<span style=\"color: #0087ff; text-decoration-color: #0087ff\">Dropout</span>)            │ ?                      │   <span style=\"color: #00af00; text-decoration-color: #00af00\">0</span> (unbuilt) │\n",
       "├─────────────────────────────────┼────────────────────────┼───────────────┤\n",
       "│ gru_2 (<span style=\"color: #0087ff; text-decoration-color: #0087ff\">GRU</span>)                     │ ?                      │   <span style=\"color: #00af00; text-decoration-color: #00af00\">0</span> (unbuilt) │\n",
       "├─────────────────────────────────┼────────────────────────┼───────────────┤\n",
       "│ dropout_16 (<span style=\"color: #0087ff; text-decoration-color: #0087ff\">Dropout</span>)            │ ?                      │   <span style=\"color: #00af00; text-decoration-color: #00af00\">0</span> (unbuilt) │\n",
       "├─────────────────────────────────┼────────────────────────┼───────────────┤\n",
       "│ gru_3 (<span style=\"color: #0087ff; text-decoration-color: #0087ff\">GRU</span>)                     │ ?                      │   <span style=\"color: #00af00; text-decoration-color: #00af00\">0</span> (unbuilt) │\n",
       "├─────────────────────────────────┼────────────────────────┼───────────────┤\n",
       "│ dropout_17 (<span style=\"color: #0087ff; text-decoration-color: #0087ff\">Dropout</span>)            │ ?                      │   <span style=\"color: #00af00; text-decoration-color: #00af00\">0</span> (unbuilt) │\n",
       "├─────────────────────────────────┼────────────────────────┼───────────────┤\n",
       "│ gru_4 (<span style=\"color: #0087ff; text-decoration-color: #0087ff\">GRU</span>)                     │ ?                      │   <span style=\"color: #00af00; text-decoration-color: #00af00\">0</span> (unbuilt) │\n",
       "├─────────────────────────────────┼────────────────────────┼───────────────┤\n",
       "│ dropout_18 (<span style=\"color: #0087ff; text-decoration-color: #0087ff\">Dropout</span>)            │ ?                      │   <span style=\"color: #00af00; text-decoration-color: #00af00\">0</span> (unbuilt) │\n",
       "├─────────────────────────────────┼────────────────────────┼───────────────┤\n",
       "│ dense_6 (<span style=\"color: #0087ff; text-decoration-color: #0087ff\">Dense</span>)                 │ ?                      │   <span style=\"color: #00af00; text-decoration-color: #00af00\">0</span> (unbuilt) │\n",
       "├─────────────────────────────────┼────────────────────────┼───────────────┤\n",
       "│ batch_normalization_4           │ ?                      │   <span style=\"color: #00af00; text-decoration-color: #00af00\">0</span> (unbuilt) │\n",
       "│ (<span style=\"color: #0087ff; text-decoration-color: #0087ff\">BatchNormalization</span>)            │                        │               │\n",
       "├─────────────────────────────────┼────────────────────────┼───────────────┤\n",
       "│ dropout_19 (<span style=\"color: #0087ff; text-decoration-color: #0087ff\">Dropout</span>)            │ ?                      │   <span style=\"color: #00af00; text-decoration-color: #00af00\">0</span> (unbuilt) │\n",
       "├─────────────────────────────────┼────────────────────────┼───────────────┤\n",
       "│ dense_7 (<span style=\"color: #0087ff; text-decoration-color: #0087ff\">Dense</span>)                 │ ?                      │   <span style=\"color: #00af00; text-decoration-color: #00af00\">0</span> (unbuilt) │\n",
       "├─────────────────────────────────┼────────────────────────┼───────────────┤\n",
       "│ batch_normalization_5           │ ?                      │   <span style=\"color: #00af00; text-decoration-color: #00af00\">0</span> (unbuilt) │\n",
       "│ (<span style=\"color: #0087ff; text-decoration-color: #0087ff\">BatchNormalization</span>)            │                        │               │\n",
       "├─────────────────────────────────┼────────────────────────┼───────────────┤\n",
       "│ dropout_20 (<span style=\"color: #0087ff; text-decoration-color: #0087ff\">Dropout</span>)            │ ?                      │   <span style=\"color: #00af00; text-decoration-color: #00af00\">0</span> (unbuilt) │\n",
       "├─────────────────────────────────┼────────────────────────┼───────────────┤\n",
       "│ dense_8 (<span style=\"color: #0087ff; text-decoration-color: #0087ff\">Dense</span>)                 │ ?                      │   <span style=\"color: #00af00; text-decoration-color: #00af00\">0</span> (unbuilt) │\n",
       "└─────────────────────────────────┴────────────────────────┴───────────────┘\n",
       "</pre>\n"
      ],
      "text/plain": [
       "┏━━━━━━━━━━━━━━━━━━━━━━━━━━━━━━━━━┳━━━━━━━━━━━━━━━━━━━━━━━━┳━━━━━━━━━━━━━━━┓\n",
       "┃\u001b[1m \u001b[0m\u001b[1mLayer (type)                   \u001b[0m\u001b[1m \u001b[0m┃\u001b[1m \u001b[0m\u001b[1mOutput Shape          \u001b[0m\u001b[1m \u001b[0m┃\u001b[1m \u001b[0m\u001b[1m      Param #\u001b[0m\u001b[1m \u001b[0m┃\n",
       "┡━━━━━━━━━━━━━━━━━━━━━━━━━━━━━━━━━╇━━━━━━━━━━━━━━━━━━━━━━━━╇━━━━━━━━━━━━━━━┩\n",
       "│ embedding_2 (\u001b[38;5;33mEmbedding\u001b[0m)         │ ?                      │   \u001b[38;5;34m0\u001b[0m (unbuilt) │\n",
       "├─────────────────────────────────┼────────────────────────┼───────────────┤\n",
       "│ gru (\u001b[38;5;33mGRU\u001b[0m)                       │ ?                      │   \u001b[38;5;34m0\u001b[0m (unbuilt) │\n",
       "├─────────────────────────────────┼────────────────────────┼───────────────┤\n",
       "│ dropout_14 (\u001b[38;5;33mDropout\u001b[0m)            │ ?                      │   \u001b[38;5;34m0\u001b[0m (unbuilt) │\n",
       "├─────────────────────────────────┼────────────────────────┼───────────────┤\n",
       "│ gru_1 (\u001b[38;5;33mGRU\u001b[0m)                     │ ?                      │   \u001b[38;5;34m0\u001b[0m (unbuilt) │\n",
       "├─────────────────────────────────┼────────────────────────┼───────────────┤\n",
       "│ dropout_15 (\u001b[38;5;33mDropout\u001b[0m)            │ ?                      │   \u001b[38;5;34m0\u001b[0m (unbuilt) │\n",
       "├─────────────────────────────────┼────────────────────────┼───────────────┤\n",
       "│ gru_2 (\u001b[38;5;33mGRU\u001b[0m)                     │ ?                      │   \u001b[38;5;34m0\u001b[0m (unbuilt) │\n",
       "├─────────────────────────────────┼────────────────────────┼───────────────┤\n",
       "│ dropout_16 (\u001b[38;5;33mDropout\u001b[0m)            │ ?                      │   \u001b[38;5;34m0\u001b[0m (unbuilt) │\n",
       "├─────────────────────────────────┼────────────────────────┼───────────────┤\n",
       "│ gru_3 (\u001b[38;5;33mGRU\u001b[0m)                     │ ?                      │   \u001b[38;5;34m0\u001b[0m (unbuilt) │\n",
       "├─────────────────────────────────┼────────────────────────┼───────────────┤\n",
       "│ dropout_17 (\u001b[38;5;33mDropout\u001b[0m)            │ ?                      │   \u001b[38;5;34m0\u001b[0m (unbuilt) │\n",
       "├─────────────────────────────────┼────────────────────────┼───────────────┤\n",
       "│ gru_4 (\u001b[38;5;33mGRU\u001b[0m)                     │ ?                      │   \u001b[38;5;34m0\u001b[0m (unbuilt) │\n",
       "├─────────────────────────────────┼────────────────────────┼───────────────┤\n",
       "│ dropout_18 (\u001b[38;5;33mDropout\u001b[0m)            │ ?                      │   \u001b[38;5;34m0\u001b[0m (unbuilt) │\n",
       "├─────────────────────────────────┼────────────────────────┼───────────────┤\n",
       "│ dense_6 (\u001b[38;5;33mDense\u001b[0m)                 │ ?                      │   \u001b[38;5;34m0\u001b[0m (unbuilt) │\n",
       "├─────────────────────────────────┼────────────────────────┼───────────────┤\n",
       "│ batch_normalization_4           │ ?                      │   \u001b[38;5;34m0\u001b[0m (unbuilt) │\n",
       "│ (\u001b[38;5;33mBatchNormalization\u001b[0m)            │                        │               │\n",
       "├─────────────────────────────────┼────────────────────────┼───────────────┤\n",
       "│ dropout_19 (\u001b[38;5;33mDropout\u001b[0m)            │ ?                      │   \u001b[38;5;34m0\u001b[0m (unbuilt) │\n",
       "├─────────────────────────────────┼────────────────────────┼───────────────┤\n",
       "│ dense_7 (\u001b[38;5;33mDense\u001b[0m)                 │ ?                      │   \u001b[38;5;34m0\u001b[0m (unbuilt) │\n",
       "├─────────────────────────────────┼────────────────────────┼───────────────┤\n",
       "│ batch_normalization_5           │ ?                      │   \u001b[38;5;34m0\u001b[0m (unbuilt) │\n",
       "│ (\u001b[38;5;33mBatchNormalization\u001b[0m)            │                        │               │\n",
       "├─────────────────────────────────┼────────────────────────┼───────────────┤\n",
       "│ dropout_20 (\u001b[38;5;33mDropout\u001b[0m)            │ ?                      │   \u001b[38;5;34m0\u001b[0m (unbuilt) │\n",
       "├─────────────────────────────────┼────────────────────────┼───────────────┤\n",
       "│ dense_8 (\u001b[38;5;33mDense\u001b[0m)                 │ ?                      │   \u001b[38;5;34m0\u001b[0m (unbuilt) │\n",
       "└─────────────────────────────────┴────────────────────────┴───────────────┘\n"
      ]
     },
     "metadata": {},
     "output_type": "display_data"
    },
    {
     "data": {
      "text/html": [
       "<pre style=\"white-space:pre;overflow-x:auto;line-height:normal;font-family:Menlo,'DejaVu Sans Mono',consolas,'Courier New',monospace\"><span style=\"font-weight: bold\"> Total params: </span><span style=\"color: #00af00; text-decoration-color: #00af00\">0</span> (0.00 B)\n",
       "</pre>\n"
      ],
      "text/plain": [
       "\u001b[1m Total params: \u001b[0m\u001b[38;5;34m0\u001b[0m (0.00 B)\n"
      ]
     },
     "metadata": {},
     "output_type": "display_data"
    },
    {
     "data": {
      "text/html": [
       "<pre style=\"white-space:pre;overflow-x:auto;line-height:normal;font-family:Menlo,'DejaVu Sans Mono',consolas,'Courier New',monospace\"><span style=\"font-weight: bold\"> Trainable params: </span><span style=\"color: #00af00; text-decoration-color: #00af00\">0</span> (0.00 B)\n",
       "</pre>\n"
      ],
      "text/plain": [
       "\u001b[1m Trainable params: \u001b[0m\u001b[38;5;34m0\u001b[0m (0.00 B)\n"
      ]
     },
     "metadata": {},
     "output_type": "display_data"
    },
    {
     "data": {
      "text/html": [
       "<pre style=\"white-space:pre;overflow-x:auto;line-height:normal;font-family:Menlo,'DejaVu Sans Mono',consolas,'Courier New',monospace\"><span style=\"font-weight: bold\"> Non-trainable params: </span><span style=\"color: #00af00; text-decoration-color: #00af00\">0</span> (0.00 B)\n",
       "</pre>\n"
      ],
      "text/plain": [
       "\u001b[1m Non-trainable params: \u001b[0m\u001b[38;5;34m0\u001b[0m (0.00 B)\n"
      ]
     },
     "metadata": {},
     "output_type": "display_data"
    }
   ],
   "source": [
    "# GRU Model\n",
    "\n",
    "embedding_dim = 1000\n",
    "\n",
    "model = Sequential()\n",
    "model.add(Embedding(voc_size+1, embedding_dim, mask_zero=True, input_length=sent_length))\n",
    "\n",
    "model.add(GRU(100, return_sequences=True, recurrent_dropout=0.2, dropout=0.2))\n",
    "model.add(Dropout(0.5))\n",
    "\n",
    "model.add(GRU(100, return_sequences=True, recurrent_dropout=0.2, dropout=0.2))\n",
    "model.add(Dropout(0.5))\n",
    "\n",
    "model.add(GRU(100, return_sequences=True, recurrent_dropout=0.2, dropout=0.2))\n",
    "model.add(Dropout(0.5))\n",
    "\n",
    "model.add(GRU(100, return_sequences=True, recurrent_dropout=0.2, dropout=0.2))\n",
    "model.add(Dropout(0.5))\n",
    "\n",
    "model.add(GRU(100, return_sequences=False, recurrent_dropout=0.2, dropout=0.2))\n",
    "model.add(Dropout(0.5))\n",
    "\n",
    "model.add(Dense(128, activation='relu'))\n",
    "model.add(BatchNormalization())\n",
    "model.add(Dropout(0.5))\n",
    "\n",
    "model.add(Dense(64, activation='relu'))\n",
    "model.add(BatchNormalization())\n",
    "model.add(Dropout(0.5))\n",
    "\n",
    "model.add(Dense(1, activation='sigmoid'))\n",
    "\n",
    "model.compile(loss='binary_crossentropy', optimizer='adam', metrics=['accuracy'])\n",
    "\n",
    "model.summary()"
   ]
  },
  {
   "cell_type": "code",
   "execution_count": 45,
   "id": "759f3216",
   "metadata": {
    "execution": {
     "iopub.execute_input": "2024-12-08T00:34:26.057905Z",
     "iopub.status.busy": "2024-12-08T00:34:26.057560Z",
     "iopub.status.idle": "2024-12-08T00:47:22.936976Z",
     "shell.execute_reply": "2024-12-08T00:47:22.936212Z"
    },
    "papermill": {
     "duration": 777.517378,
     "end_time": "2024-12-08T00:47:22.939114",
     "exception": false,
     "start_time": "2024-12-08T00:34:25.421736",
     "status": "completed"
    },
    "tags": []
   },
   "outputs": [
    {
     "name": "stdout",
     "output_type": "stream",
     "text": [
      "Epoch 1/100\n"
     ]
    },
    {
     "name": "stderr",
     "output_type": "stream",
     "text": [
      "/opt/conda/lib/python3.10/site-packages/tensorflow/python/framework/indexed_slices.py:446: UserWarning: Converting sparse IndexedSlices to a dense Tensor with 100001000 elements. This may consume a large amount of memory.\n",
      "  warnings.warn(\n"
     ]
    },
    {
     "name": "stdout",
     "output_type": "stream",
     "text": [
      "\u001b[1m1000/1000\u001b[0m \u001b[32m━━━━━━━━━━━━━━━━━━━━\u001b[0m\u001b[37m\u001b[0m \u001b[1m67s\u001b[0m 51ms/step - accuracy: 0.6045 - loss: 0.7167 - val_accuracy: 0.7388 - val_loss: 0.5030\n",
      "Epoch 2/100\n",
      "\u001b[1m1000/1000\u001b[0m \u001b[32m━━━━━━━━━━━━━━━━━━━━\u001b[0m\u001b[37m\u001b[0m \u001b[1m50s\u001b[0m 50ms/step - accuracy: 0.7641 - loss: 0.4895 - val_accuracy: 0.7415 - val_loss: 0.5039\n",
      "Epoch 3/100\n",
      "\u001b[1m1000/1000\u001b[0m \u001b[32m━━━━━━━━━━━━━━━━━━━━\u001b[0m\u001b[37m\u001b[0m \u001b[1m50s\u001b[0m 50ms/step - accuracy: 0.7740 - loss: 0.4666 - val_accuracy: 0.7432 - val_loss: 0.5128\n",
      "Epoch 4/100\n",
      "\u001b[1m1000/1000\u001b[0m \u001b[32m━━━━━━━━━━━━━━━━━━━━\u001b[0m\u001b[37m\u001b[0m \u001b[1m50s\u001b[0m 49ms/step - accuracy: 0.7733 - loss: 0.4593 - val_accuracy: 0.7449 - val_loss: 0.5216\n",
      "Epoch 5/100\n",
      "\u001b[1m1000/1000\u001b[0m \u001b[32m━━━━━━━━━━━━━━━━━━━━\u001b[0m\u001b[37m\u001b[0m \u001b[1m50s\u001b[0m 50ms/step - accuracy: 0.7779 - loss: 0.4509 - val_accuracy: 0.7433 - val_loss: 0.5353\n",
      "Epoch 6/100\n",
      "\u001b[1m1000/1000\u001b[0m \u001b[32m━━━━━━━━━━━━━━━━━━━━\u001b[0m\u001b[37m\u001b[0m \u001b[1m50s\u001b[0m 50ms/step - accuracy: 0.7797 - loss: 0.4484 - val_accuracy: 0.7446 - val_loss: 0.5292\n",
      "Epoch 7/100\n",
      "\u001b[1m1000/1000\u001b[0m \u001b[32m━━━━━━━━━━━━━━━━━━━━\u001b[0m\u001b[37m\u001b[0m \u001b[1m49s\u001b[0m 49ms/step - accuracy: 0.7797 - loss: 0.4459 - val_accuracy: 0.7452 - val_loss: 0.5351\n",
      "Epoch 8/100\n",
      "\u001b[1m1000/1000\u001b[0m \u001b[32m━━━━━━━━━━━━━━━━━━━━\u001b[0m\u001b[37m\u001b[0m \u001b[1m50s\u001b[0m 50ms/step - accuracy: 0.7802 - loss: 0.4442 - val_accuracy: 0.7442 - val_loss: 0.5380\n",
      "Epoch 9/100\n",
      "\u001b[1m1000/1000\u001b[0m \u001b[32m━━━━━━━━━━━━━━━━━━━━\u001b[0m\u001b[37m\u001b[0m \u001b[1m50s\u001b[0m 50ms/step - accuracy: 0.7829 - loss: 0.4405 - val_accuracy: 0.7462 - val_loss: 0.5386\n",
      "Epoch 10/100\n",
      "\u001b[1m1000/1000\u001b[0m \u001b[32m━━━━━━━━━━━━━━━━━━━━\u001b[0m\u001b[37m\u001b[0m \u001b[1m50s\u001b[0m 50ms/step - accuracy: 0.7841 - loss: 0.4396 - val_accuracy: 0.7456 - val_loss: 0.5478\n",
      "Epoch 11/100\n",
      "\u001b[1m1000/1000\u001b[0m \u001b[32m━━━━━━━━━━━━━━━━━━━━\u001b[0m\u001b[37m\u001b[0m \u001b[1m49s\u001b[0m 49ms/step - accuracy: 0.7803 - loss: 0.4413 - val_accuracy: 0.7461 - val_loss: 0.5440\n",
      "Epoch 12/100\n",
      "\u001b[1m1000/1000\u001b[0m \u001b[32m━━━━━━━━━━━━━━━━━━━━\u001b[0m\u001b[37m\u001b[0m \u001b[1m51s\u001b[0m 51ms/step - accuracy: 0.7839 - loss: 0.4369 - val_accuracy: 0.7449 - val_loss: 0.5499\n",
      "Epoch 13/100\n",
      "\u001b[1m1000/1000\u001b[0m \u001b[32m━━━━━━━━━━━━━━━━━━━━\u001b[0m\u001b[37m\u001b[0m \u001b[1m55s\u001b[0m 55ms/step - accuracy: 0.7826 - loss: 0.4369 - val_accuracy: 0.7461 - val_loss: 0.5446\n",
      "Epoch 14/100\n",
      "\u001b[1m1000/1000\u001b[0m \u001b[32m━━━━━━━━━━━━━━━━━━━━\u001b[0m\u001b[37m\u001b[0m \u001b[1m52s\u001b[0m 52ms/step - accuracy: 0.7837 - loss: 0.4372 - val_accuracy: 0.7453 - val_loss: 0.5439\n",
      "Epoch 15/100\n",
      "\u001b[1m1000/1000\u001b[0m \u001b[32m━━━━━━━━━━━━━━━━━━━━\u001b[0m\u001b[37m\u001b[0m \u001b[1m54s\u001b[0m 54ms/step - accuracy: 0.7831 - loss: 0.4371 - val_accuracy: 0.7450 - val_loss: 0.5505\n"
     ]
    }
   ],
   "source": [
    "# Training\n",
    "hist = model.fit(x_train, y_train, batch_size=batch_size, epochs=epochs, validation_split=0.2, callbacks=callbacklist)"
   ]
  },
  {
   "cell_type": "code",
   "execution_count": 46,
   "id": "16e920de",
   "metadata": {
    "execution": {
     "iopub.execute_input": "2024-12-08T00:47:25.297408Z",
     "iopub.status.busy": "2024-12-08T00:47:25.297043Z",
     "iopub.status.idle": "2024-12-08T00:47:25.302326Z",
     "shell.execute_reply": "2024-12-08T00:47:25.301503Z"
    },
    "papermill": {
     "duration": 1.179126,
     "end_time": "2024-12-08T00:47:25.303975",
     "exception": false,
     "start_time": "2024-12-08T00:47:24.124849",
     "status": "completed"
    },
    "tags": []
   },
   "outputs": [],
   "source": [
    "sns.set()\n",
    "acc=hist.history['accuracy']\n",
    "val_acc=hist.history['val_accuracy']\n",
    "loss=hist.history['loss']\n",
    "val_loss=hist.history['val_loss']\n",
    "epochss=range(1,len(loss)+1)"
   ]
  },
  {
   "cell_type": "code",
   "execution_count": 47,
   "id": "b5265e7a",
   "metadata": {
    "execution": {
     "iopub.execute_input": "2024-12-08T00:47:27.571472Z",
     "iopub.status.busy": "2024-12-08T00:47:27.571090Z",
     "iopub.status.idle": "2024-12-08T00:47:27.886060Z",
     "shell.execute_reply": "2024-12-08T00:47:27.885168Z"
    },
    "papermill": {
     "duration": 1.408206,
     "end_time": "2024-12-08T00:47:27.887797",
     "exception": false,
     "start_time": "2024-12-08T00:47:26.479591",
     "status": "completed"
    },
    "tags": []
   },
   "outputs": [
    {
     "data": {
      "image/png": "[encoded data removed]",
      "text/plain": [
       "<Figure size 640x480 with 1 Axes>"
      ]
     },
     "metadata": {},
     "output_type": "display_data"
    }
   ],
   "source": [
    "plt.plot(epochss,acc,color='green',label='train_accuracy')\n",
    "plt.plot(epochss,val_acc,color='blue',label='valid_accuracy')\n",
    "plt.title('train & valid accuracy')\n",
    "plt.xlabel('Epoch')\n",
    "plt.ylabel('Accuracy')\n",
    "plt.legend()\n",
    "plt.ylim(0,1.02)\n",
    "plt.show()"
   ]
  },
  {
   "cell_type": "code",
   "execution_count": 48,
   "id": "47e29bb2",
   "metadata": {
    "execution": {
     "iopub.execute_input": "2024-12-08T00:47:30.180836Z",
     "iopub.status.busy": "2024-12-08T00:47:30.179746Z",
     "iopub.status.idle": "2024-12-08T00:47:30.488481Z",
     "shell.execute_reply": "2024-12-08T00:47:30.487582Z"
    },
    "papermill": {
     "duration": 1.465732,
     "end_time": "2024-12-08T00:47:30.490118",
     "exception": false,
     "start_time": "2024-12-08T00:47:29.024386",
     "status": "completed"
    },
    "tags": []
   },
   "outputs": [
    {
     "data": {
      "image/png": "[encoded data removed]",
      "text/plain": [
       "<Figure size 640x480 with 1 Axes>"
      ]
     },
     "metadata": {},
     "output_type": "display_data"
    }
   ],
   "source": [
    "plt.figure()\n",
    "plt.plot(epochss,loss,color='green',label='train_loss')\n",
    "plt.plot(epochss,val_loss,color='blue',label='valid_loss')\n",
    "plt.title('train & valid loss')\n",
    "plt.xlabel('Epoch')\n",
    "plt.ylabel('Loss')\n",
    "plt.legend()\n",
    "plt.ylim(0,1.02)\n",
    "plt.show()"
   ]
  },
  {
   "cell_type": "code",
   "execution_count": 49,
   "id": "ed462c12",
   "metadata": {
    "execution": {
     "iopub.execute_input": "2024-12-08T00:47:32.828739Z",
     "iopub.status.busy": "2024-12-08T00:47:32.827884Z",
     "iopub.status.idle": "2024-12-08T00:48:24.000417Z",
     "shell.execute_reply": "2024-12-08T00:48:23.999538Z"
    },
    "papermill": {
     "duration": 52.357582,
     "end_time": "2024-12-08T00:48:24.002074",
     "exception": false,
     "start_time": "2024-12-08T00:47:31.644492",
     "status": "completed"
    },
    "tags": []
   },
   "outputs": [
    {
     "name": "stdout",
     "output_type": "stream",
     "text": [
      "\u001b[1m10000/10000\u001b[0m \u001b[32m━━━━━━━━━━━━━━━━━━━━\u001b[0m\u001b[37m\u001b[0m \u001b[1m51s\u001b[0m 5ms/step - accuracy: 0.7734 - loss: 0.4653\n"
     ]
    },
    {
     "data": {
      "text/plain": [
       "[0.4731336832046509, 0.7667573094367981]"
      ]
     },
     "execution_count": 49,
     "metadata": {},
     "output_type": "execute_result"
    }
   ],
   "source": [
    "model.evaluate(x_train,y_train)"
   ]
  },
  {
   "cell_type": "code",
   "execution_count": 50,
   "id": "d6b56913",
   "metadata": {
    "execution": {
     "iopub.execute_input": "2024-12-08T00:48:26.379548Z",
     "iopub.status.busy": "2024-12-08T00:48:26.379159Z",
     "iopub.status.idle": "2024-12-08T00:48:38.834836Z",
     "shell.execute_reply": "2024-12-08T00:48:38.834010Z"
    },
    "papermill": {
     "duration": 13.589469,
     "end_time": "2024-12-08T00:48:38.836551",
     "exception": false,
     "start_time": "2024-12-08T00:48:25.247082",
     "status": "completed"
    },
    "tags": []
   },
   "outputs": [
    {
     "name": "stdout",
     "output_type": "stream",
     "text": [
      "\u001b[1m2500/2500\u001b[0m \u001b[32m━━━━━━━━━━━━━━━━━━━━\u001b[0m\u001b[37m\u001b[0m \u001b[1m12s\u001b[0m 5ms/step - accuracy: 0.7367 - loss: 0.5080\n"
     ]
    },
    {
     "data": {
      "text/plain": [
       "[0.5072230696678162, 0.7373868823051453]"
      ]
     },
     "execution_count": 50,
     "metadata": {},
     "output_type": "execute_result"
    }
   ],
   "source": [
    "model.evaluate(x_test,y_test)"
   ]
  },
  {
   "cell_type": "code",
   "execution_count": 51,
   "id": "5f87b576",
   "metadata": {
    "execution": {
     "iopub.execute_input": "2024-12-08T00:48:41.230610Z",
     "iopub.status.busy": "2024-12-08T00:48:41.229961Z",
     "iopub.status.idle": "2024-12-08T00:48:54.207301Z",
     "shell.execute_reply": "2024-12-08T00:48:54.206553Z"
    },
    "papermill": {
     "duration": 14.122497,
     "end_time": "2024-12-08T00:48:54.209273",
     "exception": false,
     "start_time": "2024-12-08T00:48:40.086776",
     "status": "completed"
    },
    "tags": []
   },
   "outputs": [
    {
     "name": "stdout",
     "output_type": "stream",
     "text": [
      "\u001b[1m2500/2500\u001b[0m \u001b[32m━━━━━━━━━━━━━━━━━━━━\u001b[0m\u001b[37m\u001b[0m \u001b[1m12s\u001b[0m 4ms/step\n"
     ]
    }
   ],
   "source": [
    "y_pred = model.predict(x_test)"
   ]
  },
  {
   "cell_type": "code",
   "execution_count": 52,
   "id": "1fb45329",
   "metadata": {
    "execution": {
     "iopub.execute_input": "2024-12-08T00:48:56.708427Z",
     "iopub.status.busy": "2024-12-08T00:48:56.708054Z",
     "iopub.status.idle": "2024-12-08T00:48:56.712586Z",
     "shell.execute_reply": "2024-12-08T00:48:56.711852Z"
    },
    "papermill": {
     "duration": 1.302764,
     "end_time": "2024-12-08T00:48:56.714186",
     "exception": false,
     "start_time": "2024-12-08T00:48:55.411422",
     "status": "completed"
    },
    "tags": []
   },
   "outputs": [],
   "source": [
    "y_pred = (y_pred > 0.5).astype(int)"
   ]
  },
  {
   "cell_type": "code",
   "execution_count": 53,
   "id": "753bc31b",
   "metadata": {
    "execution": {
     "iopub.execute_input": "2024-12-08T00:48:59.149095Z",
     "iopub.status.busy": "2024-12-08T00:48:59.148789Z",
     "iopub.status.idle": "2024-12-08T00:48:59.458570Z",
     "shell.execute_reply": "2024-12-08T00:48:59.457701Z"
    },
    "papermill": {
     "duration": 1.576363,
     "end_time": "2024-12-08T00:48:59.460448",
     "exception": false,
     "start_time": "2024-12-08T00:48:57.884085",
     "status": "completed"
    },
    "tags": []
   },
   "outputs": [
    {
     "name": "stdout",
     "output_type": "stream",
     "text": [
      "              precision    recall  f1-score   support\n",
      "\n",
      "           0       0.77      0.68      0.72     40010\n",
      "           1       0.71      0.80      0.75     39986\n",
      "\n",
      "    accuracy                           0.74     79996\n",
      "   macro avg       0.74      0.74      0.74     79996\n",
      "weighted avg       0.74      0.74      0.74     79996\n",
      "\n"
     ]
    },
    {
     "data": {
      "text/plain": [
       "<Axes: >"
      ]
     },
     "execution_count": 53,
     "metadata": {},
     "output_type": "execute_result"
    },
    {
     "data": {
      "image/png": "[encoded data removed]",
      "text/plain": [
       "<Figure size 640x480 with 2 Axes>"
      ]
     },
     "metadata": {},
     "output_type": "display_data"
    }
   ],
   "source": [
    "print(classification_report(y_test,y_pred))\n",
    "sns.heatmap(confusion_matrix(y_test,y_pred),annot=True,fmt='d',cmap='Blues')"
   ]
  }
 ],
 "metadata": {
  "kaggle": {
   "accelerator": "gpu",
   "dataSources": [
    {
     "datasetId": 1340369,
     "sourceId": 2233682,
     "sourceType": "datasetVersion"
    }
   ],
   "dockerImageVersionId": 30805,
   "isGpuEnabled": true,
   "isInternetEnabled": true,
   "language": "python",
   "sourceType": "notebook"
  },
  "kernelspec": {
   "display_name": "Python 3",
   "language": "python",
   "name": "python3"
  },
  "language_info": {
   "codemirror_mode": {
    "name": "ipython",
    "version": 3
   },
   "file_extension": ".py",
   "mimetype": "text/x-python",
   "name": "python",
   "nbconvert_exporter": "python",
   "pygments_lexer": "ipython3",
   "version": "3.10.14"
  },
  "papermill": {
   "default_parameters": {},
   "duration": 2599.607659,
   "end_time": "2024-12-08T00:49:04.268772",
   "environment_variables": {},
   "exception": null,
   "input_path": "__notebook__.ipynb",
   "output_path": "__notebook__.ipynb",
   "parameters": {},
   "start_time": "2024-12-08T00:05:44.661113",
   "version": "2.6.0"
  }
 },
 "nbformat": 4,
 "nbformat_minor": 5
}
